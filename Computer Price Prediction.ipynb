{
  "cells": [
    {
      "cell_type": "markdown",
      "metadata": {},
      "source": [
        "# Computer Price Prediction Using Regression \n",
        "\n",
        "## 1. Introduction:\n",
        "\n",
        "### Exploratory Question:\n",
        "\n",
        "## 2. Loading data:\n",
        "\n",
        "We begin the analysis by loading the data set to get a better understading of the data\n",
        "\n",
        "### 2.1 Import Libraries"
      ]
    },
    {
      "cell_type": "code",
      "execution_count": 46,
      "metadata": {},
      "outputs": [],
      "source": [
        "# Import all the Required libraries \n",
        "\n",
        "# Data Analysis & Visualization libraries\n",
        "import pandas as pd\n",
        "import numpy as np\n",
        "import seaborn as sns\n",
        "import matplotlib.pyplot as plt\n",
        "import plotly.express as px\n",
        "from plotly import graph_objs as go\n",
        "\n",
        "# Model Building\n",
        "from sklearn.preprocessing import LabelEncoder, StandardScaler\n",
        "from sklearn.model_selection import train_test_split, RandomizedSearchCV\n",
        "from sklearn.feature_selection import RFE\n",
        "from sklearn.linear_model import LinearRegression\n",
        "from sklearn.tree import DecisionTreeRegressor\n",
        "from sklearn.neighbors import KNeighborsRegressor\n",
        "from sklearn.ensemble import RandomForestRegressor,GradientBoostingRegressor,AdaBoostRegressor\n",
        "from sklearn.metrics import mean_squared_error, mean_absolute_error,r2_score\n",
        "\n",
        "# visualisation modifiers\n",
        "pd.set_option('display.max_columns', None)\n",
        "pd.set_option('display.max_rows', None)\n",
        "sns.set(style = 'darkgrid',font_scale=1.5)\n",
        "%matplotlib inline\n",
        "\n",
        "# To supress warnings\n",
        "import warnings\n",
        "warnings.filterwarnings(\"ignore\")"
      ]
    },
    {
      "cell_type": "markdown",
      "metadata": {},
      "source": [
        "### 2.2 Load Dataset"
      ]
    },
    {
      "cell_type": "code",
      "execution_count": 22,
      "metadata": {},
      "outputs": [
        {
          "data": {
            "text/html": [
              "<div>\n",
              "<style scoped>\n",
              "    .dataframe tbody tr th:only-of-type {\n",
              "        vertical-align: middle;\n",
              "    }\n",
              "\n",
              "    .dataframe tbody tr th {\n",
              "        vertical-align: top;\n",
              "    }\n",
              "\n",
              "    .dataframe thead th {\n",
              "        text-align: right;\n",
              "    }\n",
              "</style>\n",
              "<table border=\"1\" class=\"dataframe\">\n",
              "  <thead>\n",
              "    <tr style=\"text-align: right;\">\n",
              "      <th></th>\n",
              "      <th>Company</th>\n",
              "      <th>TypeName</th>\n",
              "      <th>Ram</th>\n",
              "      <th>Weight</th>\n",
              "      <th>Price</th>\n",
              "      <th>TouchScreen</th>\n",
              "      <th>Ips</th>\n",
              "      <th>Ppi</th>\n",
              "      <th>Cpu_brand</th>\n",
              "      <th>HDD</th>\n",
              "      <th>SSD</th>\n",
              "      <th>Gpu_brand</th>\n",
              "      <th>Os</th>\n",
              "    </tr>\n",
              "  </thead>\n",
              "  <tbody>\n",
              "    <tr>\n",
              "      <th>0</th>\n",
              "      <td>Apple</td>\n",
              "      <td>Ultrabook</td>\n",
              "      <td>8</td>\n",
              "      <td>1.37</td>\n",
              "      <td>11.175755</td>\n",
              "      <td>0</td>\n",
              "      <td>1</td>\n",
              "      <td>226.983005</td>\n",
              "      <td>Intel Core i5</td>\n",
              "      <td>0</td>\n",
              "      <td>128</td>\n",
              "      <td>Intel</td>\n",
              "      <td>Mac</td>\n",
              "    </tr>\n",
              "    <tr>\n",
              "      <th>1</th>\n",
              "      <td>Apple</td>\n",
              "      <td>Ultrabook</td>\n",
              "      <td>8</td>\n",
              "      <td>1.34</td>\n",
              "      <td>10.776777</td>\n",
              "      <td>0</td>\n",
              "      <td>0</td>\n",
              "      <td>127.677940</td>\n",
              "      <td>Intel Core i5</td>\n",
              "      <td>0</td>\n",
              "      <td>0</td>\n",
              "      <td>Intel</td>\n",
              "      <td>Mac</td>\n",
              "    </tr>\n",
              "    <tr>\n",
              "      <th>2</th>\n",
              "      <td>HP</td>\n",
              "      <td>Notebook</td>\n",
              "      <td>8</td>\n",
              "      <td>1.86</td>\n",
              "      <td>10.329931</td>\n",
              "      <td>0</td>\n",
              "      <td>0</td>\n",
              "      <td>141.211998</td>\n",
              "      <td>Intel Core i5</td>\n",
              "      <td>0</td>\n",
              "      <td>256</td>\n",
              "      <td>Intel</td>\n",
              "      <td>Others</td>\n",
              "    </tr>\n",
              "    <tr>\n",
              "      <th>3</th>\n",
              "      <td>Apple</td>\n",
              "      <td>Ultrabook</td>\n",
              "      <td>16</td>\n",
              "      <td>1.83</td>\n",
              "      <td>11.814476</td>\n",
              "      <td>0</td>\n",
              "      <td>1</td>\n",
              "      <td>220.534624</td>\n",
              "      <td>Intel Core i7</td>\n",
              "      <td>0</td>\n",
              "      <td>512</td>\n",
              "      <td>AMD</td>\n",
              "      <td>Mac</td>\n",
              "    </tr>\n",
              "    <tr>\n",
              "      <th>4</th>\n",
              "      <td>Apple</td>\n",
              "      <td>Ultrabook</td>\n",
              "      <td>8</td>\n",
              "      <td>1.37</td>\n",
              "      <td>11.473101</td>\n",
              "      <td>0</td>\n",
              "      <td>1</td>\n",
              "      <td>226.983005</td>\n",
              "      <td>Intel Core i5</td>\n",
              "      <td>0</td>\n",
              "      <td>256</td>\n",
              "      <td>Intel</td>\n",
              "      <td>Mac</td>\n",
              "    </tr>\n",
              "  </tbody>\n",
              "</table>\n",
              "</div>"
            ],
            "text/plain": [
              "  Company   TypeName  Ram  Weight      Price  TouchScreen  Ips         Ppi  \\\n",
              "0   Apple  Ultrabook    8    1.37  11.175755            0    1  226.983005   \n",
              "1   Apple  Ultrabook    8    1.34  10.776777            0    0  127.677940   \n",
              "2      HP   Notebook    8    1.86  10.329931            0    0  141.211998   \n",
              "3   Apple  Ultrabook   16    1.83  11.814476            0    1  220.534624   \n",
              "4   Apple  Ultrabook    8    1.37  11.473101            0    1  226.983005   \n",
              "\n",
              "       Cpu_brand  HDD  SSD Gpu_brand      Os  \n",
              "0  Intel Core i5    0  128     Intel     Mac  \n",
              "1  Intel Core i5    0    0     Intel     Mac  \n",
              "2  Intel Core i5    0  256     Intel  Others  \n",
              "3  Intel Core i7    0  512       AMD     Mac  \n",
              "4  Intel Core i5    0  256     Intel     Mac  "
            ]
          },
          "execution_count": 22,
          "metadata": {},
          "output_type": "execute_result"
        }
      ],
      "source": [
        "data = pd.read_csv('laptop_data_cleaned.csv')\n",
        "data.head()"
      ]
    },
    {
      "cell_type": "code",
      "execution_count": 23,
      "metadata": {},
      "outputs": [
        {
          "data": {
            "text/plain": [
              "Gpu_brand\n",
              "Intel     703\n",
              "Nvidia    396\n",
              "AMD       174\n",
              "Name: count, dtype: int64"
            ]
          },
          "execution_count": 23,
          "metadata": {},
          "output_type": "execute_result"
        }
      ],
      "source": [
        "data['Gpu_brand'].value_counts()"
      ]
    },
    {
      "cell_type": "markdown",
      "metadata": {},
      "source": [
        "## 3. Data Cleaning and Summary:\n",
        "\n",
        "Shape of dataset (1273, 13)\n",
        "\n",
        "| Variable Name      | Type of Variable | Explanation |\n",
        "| ----------- | :-----------: | ----------- |\n",
        "| `Company`     | chr       | The brand of that laptop |\n",
        "| `TypeName`   | chr        | The categories of which type the laptop is|\n",
        "| `Ram`   | int        | RAM of the laptop |\n",
        "| `Weight`   | int       | How heavy the laptop is|\n",
        "| `Price`   | int        | The total price of that computer|\n",
        "| `TouchScreen`   | int        | Define whether the laptop's screen has touch screen or not|\n",
        "| `Ips`   | int        | Define whether the laptop has the In Plane Switching (IPS) display or not|\n",
        "| `Ppi`   | int        | Laptop's pixel per inches |\n",
        "| `Cpu_brand`   | chr        | The brand of CPU|\n",
        "| `HDD`   | int        | Hard disk drives of the laptop|\n",
        "| `SSD`   | int        | Solid-state drive of the laptop|\n",
        "| `Gpu_brand`   | chr        | The brand of GPU|\n",
        "| `Os`   | chr        | The catrgories of which type of Operating System the laptop is|\n",
        "\n",
        "\n",
        "- From above output, we could have that there are totals 1273 variables in the dataset with 13 variables in which 5 of them are categorical and 8 numerical attributes.\n",
        "\n"
      ]
    },
    {
      "cell_type": "code",
      "execution_count": 24,
      "metadata": {},
      "outputs": [
        {
          "data": {
            "text/html": [
              "<div>\n",
              "<style scoped>\n",
              "    .dataframe tbody tr th:only-of-type {\n",
              "        vertical-align: middle;\n",
              "    }\n",
              "\n",
              "    .dataframe tbody tr th {\n",
              "        vertical-align: top;\n",
              "    }\n",
              "\n",
              "    .dataframe thead th {\n",
              "        text-align: right;\n",
              "    }\n",
              "</style>\n",
              "<table border=\"1\" class=\"dataframe\">\n",
              "  <thead>\n",
              "    <tr style=\"text-align: right;\">\n",
              "      <th></th>\n",
              "      <th>Ram</th>\n",
              "      <th>Weight</th>\n",
              "      <th>Price</th>\n",
              "      <th>TouchScreen</th>\n",
              "      <th>Ips</th>\n",
              "      <th>Ppi</th>\n",
              "      <th>HDD</th>\n",
              "      <th>SSD</th>\n",
              "    </tr>\n",
              "  </thead>\n",
              "  <tbody>\n",
              "    <tr>\n",
              "      <th>count</th>\n",
              "      <td>1273.000000</td>\n",
              "      <td>1273.000000</td>\n",
              "      <td>1273.000000</td>\n",
              "      <td>1273.000000</td>\n",
              "      <td>1273.000000</td>\n",
              "      <td>1273.000000</td>\n",
              "      <td>1273.000000</td>\n",
              "      <td>1273.000000</td>\n",
              "    </tr>\n",
              "    <tr>\n",
              "      <th>mean</th>\n",
              "      <td>8.447761</td>\n",
              "      <td>2.041100</td>\n",
              "      <td>10.828218</td>\n",
              "      <td>0.146897</td>\n",
              "      <td>0.279654</td>\n",
              "      <td>146.950812</td>\n",
              "      <td>413.715632</td>\n",
              "      <td>186.252946</td>\n",
              "    </tr>\n",
              "    <tr>\n",
              "      <th>std</th>\n",
              "      <td>5.098771</td>\n",
              "      <td>0.669241</td>\n",
              "      <td>0.619565</td>\n",
              "      <td>0.354142</td>\n",
              "      <td>0.449006</td>\n",
              "      <td>42.926775</td>\n",
              "      <td>518.054486</td>\n",
              "      <td>186.531571</td>\n",
              "    </tr>\n",
              "    <tr>\n",
              "      <th>min</th>\n",
              "      <td>2.000000</td>\n",
              "      <td>0.690000</td>\n",
              "      <td>9.134616</td>\n",
              "      <td>0.000000</td>\n",
              "      <td>0.000000</td>\n",
              "      <td>90.583402</td>\n",
              "      <td>0.000000</td>\n",
              "      <td>0.000000</td>\n",
              "    </tr>\n",
              "    <tr>\n",
              "      <th>25%</th>\n",
              "      <td>4.000000</td>\n",
              "      <td>1.500000</td>\n",
              "      <td>10.387379</td>\n",
              "      <td>0.000000</td>\n",
              "      <td>0.000000</td>\n",
              "      <td>127.335675</td>\n",
              "      <td>0.000000</td>\n",
              "      <td>0.000000</td>\n",
              "    </tr>\n",
              "    <tr>\n",
              "      <th>50%</th>\n",
              "      <td>8.000000</td>\n",
              "      <td>2.040000</td>\n",
              "      <td>10.872255</td>\n",
              "      <td>0.000000</td>\n",
              "      <td>0.000000</td>\n",
              "      <td>141.211998</td>\n",
              "      <td>0.000000</td>\n",
              "      <td>256.000000</td>\n",
              "    </tr>\n",
              "    <tr>\n",
              "      <th>75%</th>\n",
              "      <td>8.000000</td>\n",
              "      <td>2.310000</td>\n",
              "      <td>11.287447</td>\n",
              "      <td>0.000000</td>\n",
              "      <td>1.000000</td>\n",
              "      <td>157.350512</td>\n",
              "      <td>1000.000000</td>\n",
              "      <td>256.000000</td>\n",
              "    </tr>\n",
              "    <tr>\n",
              "      <th>max</th>\n",
              "      <td>64.000000</td>\n",
              "      <td>4.700000</td>\n",
              "      <td>12.691441</td>\n",
              "      <td>1.000000</td>\n",
              "      <td>1.000000</td>\n",
              "      <td>352.465147</td>\n",
              "      <td>2000.000000</td>\n",
              "      <td>1024.000000</td>\n",
              "    </tr>\n",
              "  </tbody>\n",
              "</table>\n",
              "</div>"
            ],
            "text/plain": [
              "               Ram       Weight        Price  TouchScreen          Ips  \\\n",
              "count  1273.000000  1273.000000  1273.000000  1273.000000  1273.000000   \n",
              "mean      8.447761     2.041100    10.828218     0.146897     0.279654   \n",
              "std       5.098771     0.669241     0.619565     0.354142     0.449006   \n",
              "min       2.000000     0.690000     9.134616     0.000000     0.000000   \n",
              "25%       4.000000     1.500000    10.387379     0.000000     0.000000   \n",
              "50%       8.000000     2.040000    10.872255     0.000000     0.000000   \n",
              "75%       8.000000     2.310000    11.287447     0.000000     1.000000   \n",
              "max      64.000000     4.700000    12.691441     1.000000     1.000000   \n",
              "\n",
              "               Ppi          HDD          SSD  \n",
              "count  1273.000000  1273.000000  1273.000000  \n",
              "mean    146.950812   413.715632   186.252946  \n",
              "std      42.926775   518.054486   186.531571  \n",
              "min      90.583402     0.000000     0.000000  \n",
              "25%     127.335675     0.000000     0.000000  \n",
              "50%     141.211998     0.000000   256.000000  \n",
              "75%     157.350512  1000.000000   256.000000  \n",
              "max     352.465147  2000.000000  1024.000000  "
            ]
          },
          "execution_count": 24,
          "metadata": {},
          "output_type": "execute_result"
        }
      ],
      "source": [
        "data.describe()"
      ]
    },
    {
      "cell_type": "markdown",
      "metadata": {},
      "source": [
        "### 3.2 Data Cleaning"
      ]
    },
    {
      "cell_type": "code",
      "execution_count": 25,
      "metadata": {},
      "outputs": [
        {
          "data": {
            "text/plain": [
              "Company        0\n",
              "TypeName       0\n",
              "Ram            0\n",
              "Weight         0\n",
              "Price          0\n",
              "TouchScreen    0\n",
              "Ips            0\n",
              "Ppi            0\n",
              "Cpu_brand      0\n",
              "HDD            0\n",
              "SSD            0\n",
              "Gpu_brand      0\n",
              "Os             0\n",
              "dtype: int64"
            ]
          },
          "execution_count": 25,
          "metadata": {},
          "output_type": "execute_result"
        }
      ],
      "source": [
        "data.isnull().sum()"
      ]
    },
    {
      "cell_type": "code",
      "execution_count": 26,
      "metadata": {},
      "outputs": [
        {
          "data": {
            "text/plain": [
              "1"
            ]
          },
          "execution_count": 26,
          "metadata": {},
          "output_type": "execute_result"
        }
      ],
      "source": [
        "data.duplicated().sum()"
      ]
    },
    {
      "cell_type": "code",
      "execution_count": 27,
      "metadata": {},
      "outputs": [
        {
          "data": {
            "text/plain": [
              "(1272, 13)"
            ]
          },
          "execution_count": 27,
          "metadata": {},
          "output_type": "execute_result"
        }
      ],
      "source": [
        "data = data.drop_duplicates()\n",
        "data.shape"
      ]
    },
    {
      "cell_type": "code",
      "execution_count": 28,
      "metadata": {},
      "outputs": [
        {
          "name": "stdout",
          "output_type": "stream",
          "text": [
            "<class 'pandas.core.frame.DataFrame'>\n",
            "Index: 1272 entries, 0 to 1272\n",
            "Data columns (total 13 columns):\n",
            " #   Column       Non-Null Count  Dtype  \n",
            "---  ------       --------------  -----  \n",
            " 0   Company      1272 non-null   object \n",
            " 1   TypeName     1272 non-null   object \n",
            " 2   Ram          1272 non-null   int64  \n",
            " 3   Weight       1272 non-null   float64\n",
            " 4   Price        1272 non-null   float64\n",
            " 5   TouchScreen  1272 non-null   int64  \n",
            " 6   Ips          1272 non-null   int64  \n",
            " 7   Ppi          1272 non-null   float64\n",
            " 8   Cpu_brand    1272 non-null   object \n",
            " 9   HDD          1272 non-null   int64  \n",
            " 10  SSD          1272 non-null   int64  \n",
            " 11  Gpu_brand    1272 non-null   object \n",
            " 12  Os           1272 non-null   object \n",
            "dtypes: float64(3), int64(5), object(5)\n",
            "memory usage: 139.1+ KB\n"
          ]
        }
      ],
      "source": [
        "data.info()"
      ]
    },
    {
      "cell_type": "code",
      "execution_count": 30,
      "metadata": {},
      "outputs": [
        {
          "data": {
            "text/html": [
              "<div>\n",
              "<style scoped>\n",
              "    .dataframe tbody tr th:only-of-type {\n",
              "        vertical-align: middle;\n",
              "    }\n",
              "\n",
              "    .dataframe tbody tr th {\n",
              "        vertical-align: top;\n",
              "    }\n",
              "\n",
              "    .dataframe thead th {\n",
              "        text-align: right;\n",
              "    }\n",
              "</style>\n",
              "<table border=\"1\" class=\"dataframe\">\n",
              "  <thead>\n",
              "    <tr style=\"text-align: right;\">\n",
              "      <th></th>\n",
              "      <th>Ram</th>\n",
              "      <th>Weight</th>\n",
              "      <th>Price</th>\n",
              "      <th>TouchScreen</th>\n",
              "      <th>Ips</th>\n",
              "      <th>Ppi</th>\n",
              "      <th>HDD</th>\n",
              "      <th>SSD</th>\n",
              "    </tr>\n",
              "  </thead>\n",
              "  <tbody>\n",
              "    <tr>\n",
              "      <th>count</th>\n",
              "      <td>1272.000000</td>\n",
              "      <td>1272.000000</td>\n",
              "      <td>1272.000000</td>\n",
              "      <td>1272.000000</td>\n",
              "      <td>1272.000000</td>\n",
              "      <td>1272.000000</td>\n",
              "      <td>1272.000000</td>\n",
              "      <td>1272.000000</td>\n",
              "    </tr>\n",
              "    <tr>\n",
              "      <th>mean</th>\n",
              "      <td>8.451258</td>\n",
              "      <td>2.041761</td>\n",
              "      <td>10.828035</td>\n",
              "      <td>0.147013</td>\n",
              "      <td>0.279874</td>\n",
              "      <td>146.936126</td>\n",
              "      <td>414.040881</td>\n",
              "      <td>186.298742</td>\n",
              "    </tr>\n",
              "    <tr>\n",
              "      <th>std</th>\n",
              "      <td>5.099249</td>\n",
              "      <td>0.669088</td>\n",
              "      <td>0.619774</td>\n",
              "      <td>0.354258</td>\n",
              "      <td>0.449114</td>\n",
              "      <td>42.940459</td>\n",
              "      <td>518.128204</td>\n",
              "      <td>186.597777</td>\n",
              "    </tr>\n",
              "    <tr>\n",
              "      <th>min</th>\n",
              "      <td>2.000000</td>\n",
              "      <td>0.690000</td>\n",
              "      <td>9.134616</td>\n",
              "      <td>0.000000</td>\n",
              "      <td>0.000000</td>\n",
              "      <td>90.583402</td>\n",
              "      <td>0.000000</td>\n",
              "      <td>0.000000</td>\n",
              "    </tr>\n",
              "    <tr>\n",
              "      <th>25%</th>\n",
              "      <td>4.000000</td>\n",
              "      <td>1.500000</td>\n",
              "      <td>10.387379</td>\n",
              "      <td>0.000000</td>\n",
              "      <td>0.000000</td>\n",
              "      <td>127.335675</td>\n",
              "      <td>0.000000</td>\n",
              "      <td>0.000000</td>\n",
              "    </tr>\n",
              "    <tr>\n",
              "      <th>50%</th>\n",
              "      <td>8.000000</td>\n",
              "      <td>2.040000</td>\n",
              "      <td>10.872255</td>\n",
              "      <td>0.000000</td>\n",
              "      <td>0.000000</td>\n",
              "      <td>141.211998</td>\n",
              "      <td>0.000000</td>\n",
              "      <td>256.000000</td>\n",
              "    </tr>\n",
              "    <tr>\n",
              "      <th>75%</th>\n",
              "      <td>8.000000</td>\n",
              "      <td>2.310000</td>\n",
              "      <td>11.287447</td>\n",
              "      <td>0.000000</td>\n",
              "      <td>1.000000</td>\n",
              "      <td>157.350512</td>\n",
              "      <td>1000.000000</td>\n",
              "      <td>256.000000</td>\n",
              "    </tr>\n",
              "    <tr>\n",
              "      <th>max</th>\n",
              "      <td>64.000000</td>\n",
              "      <td>4.700000</td>\n",
              "      <td>12.691441</td>\n",
              "      <td>1.000000</td>\n",
              "      <td>1.000000</td>\n",
              "      <td>352.465147</td>\n",
              "      <td>2000.000000</td>\n",
              "      <td>1024.000000</td>\n",
              "    </tr>\n",
              "  </tbody>\n",
              "</table>\n",
              "</div>"
            ],
            "text/plain": [
              "               Ram       Weight        Price  TouchScreen          Ips  \\\n",
              "count  1272.000000  1272.000000  1272.000000  1272.000000  1272.000000   \n",
              "mean      8.451258     2.041761    10.828035     0.147013     0.279874   \n",
              "std       5.099249     0.669088     0.619774     0.354258     0.449114   \n",
              "min       2.000000     0.690000     9.134616     0.000000     0.000000   \n",
              "25%       4.000000     1.500000    10.387379     0.000000     0.000000   \n",
              "50%       8.000000     2.040000    10.872255     0.000000     0.000000   \n",
              "75%       8.000000     2.310000    11.287447     0.000000     1.000000   \n",
              "max      64.000000     4.700000    12.691441     1.000000     1.000000   \n",
              "\n",
              "               Ppi          HDD          SSD  \n",
              "count  1272.000000  1272.000000  1272.000000  \n",
              "mean    146.936126   414.040881   186.298742  \n",
              "std      42.940459   518.128204   186.597777  \n",
              "min      90.583402     0.000000     0.000000  \n",
              "25%     127.335675     0.000000     0.000000  \n",
              "50%     141.211998     0.000000   256.000000  \n",
              "75%     157.350512  1000.000000   256.000000  \n",
              "max     352.465147  2000.000000  1024.000000  "
            ]
          },
          "execution_count": 30,
          "metadata": {},
          "output_type": "execute_result"
        }
      ],
      "source": [
        "data.describe()"
      ]
    },
    {
      "cell_type": "code",
      "execution_count": 34,
      "metadata": {},
      "outputs": [
        {
          "data": {
            "text/html": [
              "<div>\n",
              "<style scoped>\n",
              "    .dataframe tbody tr th:only-of-type {\n",
              "        vertical-align: middle;\n",
              "    }\n",
              "\n",
              "    .dataframe tbody tr th {\n",
              "        vertical-align: top;\n",
              "    }\n",
              "\n",
              "    .dataframe thead th {\n",
              "        text-align: right;\n",
              "    }\n",
              "</style>\n",
              "<table border=\"1\" class=\"dataframe\">\n",
              "  <thead>\n",
              "    <tr style=\"text-align: right;\">\n",
              "      <th></th>\n",
              "      <th>Ram</th>\n",
              "      <th>Weight</th>\n",
              "      <th>Price</th>\n",
              "      <th>TouchScreen</th>\n",
              "      <th>Ips</th>\n",
              "      <th>Ppi</th>\n",
              "      <th>HDD</th>\n",
              "      <th>SSD</th>\n",
              "    </tr>\n",
              "  </thead>\n",
              "  <tbody>\n",
              "    <tr>\n",
              "      <th>Ram</th>\n",
              "      <td>1.000000</td>\n",
              "      <td>0.388629</td>\n",
              "      <td>0.681019</td>\n",
              "      <td>0.113073</td>\n",
              "      <td>0.202473</td>\n",
              "      <td>0.295336</td>\n",
              "      <td>0.096845</td>\n",
              "      <td>0.599540</td>\n",
              "    </tr>\n",
              "    <tr>\n",
              "      <th>Weight</th>\n",
              "      <td>0.388629</td>\n",
              "      <td>1.000000</td>\n",
              "      <td>0.151861</td>\n",
              "      <td>-0.292900</td>\n",
              "      <td>0.023368</td>\n",
              "      <td>-0.319291</td>\n",
              "      <td>0.510531</td>\n",
              "      <td>-0.057331</td>\n",
              "    </tr>\n",
              "    <tr>\n",
              "      <th>Price</th>\n",
              "      <td>0.681019</td>\n",
              "      <td>0.151861</td>\n",
              "      <td>1.000000</td>\n",
              "      <td>0.194436</td>\n",
              "      <td>0.279483</td>\n",
              "      <td>0.480621</td>\n",
              "      <td>-0.097155</td>\n",
              "      <td>0.658962</td>\n",
              "    </tr>\n",
              "    <tr>\n",
              "      <th>TouchScreen</th>\n",
              "      <td>0.113073</td>\n",
              "      <td>-0.292900</td>\n",
              "      <td>0.194436</td>\n",
              "      <td>1.000000</td>\n",
              "      <td>0.136800</td>\n",
              "      <td>0.452313</td>\n",
              "      <td>-0.205431</td>\n",
              "      <td>0.252067</td>\n",
              "    </tr>\n",
              "    <tr>\n",
              "      <th>Ips</th>\n",
              "      <td>0.202473</td>\n",
              "      <td>0.023368</td>\n",
              "      <td>0.279483</td>\n",
              "      <td>0.136800</td>\n",
              "      <td>1.000000</td>\n",
              "      <td>0.289112</td>\n",
              "      <td>-0.090839</td>\n",
              "      <td>0.215085</td>\n",
              "    </tr>\n",
              "    <tr>\n",
              "      <th>Ppi</th>\n",
              "      <td>0.295336</td>\n",
              "      <td>-0.319291</td>\n",
              "      <td>0.480621</td>\n",
              "      <td>0.452313</td>\n",
              "      <td>0.289112</td>\n",
              "      <td>1.000000</td>\n",
              "      <td>-0.290595</td>\n",
              "      <td>0.500062</td>\n",
              "    </tr>\n",
              "    <tr>\n",
              "      <th>HDD</th>\n",
              "      <td>0.096845</td>\n",
              "      <td>0.510531</td>\n",
              "      <td>-0.097155</td>\n",
              "      <td>-0.205431</td>\n",
              "      <td>-0.090839</td>\n",
              "      <td>-0.290595</td>\n",
              "      <td>1.000000</td>\n",
              "      <td>-0.400937</td>\n",
              "    </tr>\n",
              "    <tr>\n",
              "      <th>SSD</th>\n",
              "      <td>0.599540</td>\n",
              "      <td>-0.057331</td>\n",
              "      <td>0.658962</td>\n",
              "      <td>0.252067</td>\n",
              "      <td>0.215085</td>\n",
              "      <td>0.500062</td>\n",
              "      <td>-0.400937</td>\n",
              "      <td>1.000000</td>\n",
              "    </tr>\n",
              "  </tbody>\n",
              "</table>\n",
              "</div>"
            ],
            "text/plain": [
              "                  Ram    Weight     Price  TouchScreen       Ips       Ppi  \\\n",
              "Ram          1.000000  0.388629  0.681019     0.113073  0.202473  0.295336   \n",
              "Weight       0.388629  1.000000  0.151861    -0.292900  0.023368 -0.319291   \n",
              "Price        0.681019  0.151861  1.000000     0.194436  0.279483  0.480621   \n",
              "TouchScreen  0.113073 -0.292900  0.194436     1.000000  0.136800  0.452313   \n",
              "Ips          0.202473  0.023368  0.279483     0.136800  1.000000  0.289112   \n",
              "Ppi          0.295336 -0.319291  0.480621     0.452313  0.289112  1.000000   \n",
              "HDD          0.096845  0.510531 -0.097155    -0.205431 -0.090839 -0.290595   \n",
              "SSD          0.599540 -0.057331  0.658962     0.252067  0.215085  0.500062   \n",
              "\n",
              "                  HDD       SSD  \n",
              "Ram          0.096845  0.599540  \n",
              "Weight       0.510531 -0.057331  \n",
              "Price       -0.097155  0.658962  \n",
              "TouchScreen -0.205431  0.252067  \n",
              "Ips         -0.090839  0.215085  \n",
              "Ppi         -0.290595  0.500062  \n",
              "HDD          1.000000 -0.400937  \n",
              "SSD         -0.400937  1.000000  "
            ]
          },
          "execution_count": 34,
          "metadata": {},
          "output_type": "execute_result"
        }
      ],
      "source": [
        "data.corr(numeric_only = True)"
      ]
    },
    {
      "cell_type": "code",
      "execution_count": 40,
      "metadata": {},
      "outputs": [
        {
          "data": {
            "text/plain": [
              "<Axes: >"
            ]
          },
          "execution_count": 40,
          "metadata": {},
          "output_type": "execute_result"
        },
        {
          "data": {
            "image/png": "[encoded data removed]",
            "text/plain": [
              "<Figure size 640x480 with 2 Axes>"
            ]
          },
          "metadata": {},
          "output_type": "display_data"
        }
      ],
      "source": [
        "sns.heatmap(data.corr(numeric_only=True), cmap= \"viridis\", annot = True, fmt = \".2f\", annot_kws={\"size\":10})"
      ]
    },
    {
      "cell_type": "markdown",
      "metadata": {},
      "source": [
        "## 4. Exploratory Data Analysis:\n",
        "\n",
        "### 4.1 Univariative Analysis:"
      ]
    },
    {
      "cell_type": "code",
      "execution_count": 44,
      "metadata": {},
      "outputs": [
        {
          "data": {
            "image/png": "[encoded data removed]",
            "text/plain": [
              "<Figure size 1500x600 with 1 Axes>"
            ]
          },
          "metadata": {},
          "output_type": "display_data"
        }
      ],
      "source": [
        "value_counts = data[\"Company\"].value_counts()\n",
        "\n",
        "value_counts_values = value_counts.values[:]\n",
        "value_counts_index = value_counts.index[:]\n",
        "\n",
        "fig, ax = plt.subplots(figsize=(15,6))\n",
        "ax.bar(value_counts_index, value_counts_values)\n",
        "ax.set_xlabel(\"Company\")\n",
        "ax.set_ylabel(\"Count\")\n",
        "ax.set_title(\"Laptop count based on Company\")\n",
        "plt.xticks(rotation=30, ha='right')\n",
        "plt.show()"
      ]
    },
    {
      "cell_type": "code",
      "execution_count": 49,
      "metadata": {},
      "outputs": [
        {
          "data": {
            "application/vnd.plotly.v1+json": {
              "config": {
                "plotlyServerURL": "https://plot.ly"
              },
              "data": [
                {
                  "line": {
                    "color": "#6C9BCF"
                  },
                  "meanline": {
                    "visible": false
                  },
                  "name": "Happy",
                  "orientation": "h",
                  "side": "positive",
                  "type": "violin",
                  "x": [
                    11.175754549129524,
                    10.77677731765335,
                    10.329931067029484,
                    11.814475944954545,
                    11.473100972779063,
                    9.967025573340116,
                    11.64410811545818,
                    11.03061499223515,
                    11.28544251205692,
                    10.621951541079865,
                    9.951658096208996,
                    9.81907645733616,
                    11.775302049361828,
                    10.187966701099125,
                    11.116330976323743,
                    11.301072237406668,
                    10.588945244611692,
                    11.933438384721946,
                    10.188167121983652,
                    10.862092668762644,
                    9.232535429245788,
                    10.882315804880689,
                    9.528520611153752,
                    10.683645110085203,
                    10.46628456073464,
                    10.012572388296086,
                    10.977716980635757,
                    10.660172753900062,
                    11.144140923496169,
                    10.773501439207063,
                    9.476778419617322,
                    9.268865850956626,
                    10.060060439307303,
                    11.508719833687696,
                    10.881314302543595,
                    9.49301392269684,
                    9.880922874286703,
                    10.862092668762644,
                    10.167289367847482,
                    10.754345923917311,
                    9.93914036985058,
                    11.288114524334732,
                    10.235123369655367,
                    10.500590684075595,
                    10.882315804880689,
                    11.233268703392175,
                    9.88635767027266,
                    11.144911042902732,
                    10.435465480609668,
                    10.11974666035778,
                    9.74075212901698,
                    10.71015268620508,
                    9.963243430044656,
                    10.981350045485636,
                    9.92620357881986,
                    10.619090308798832,
                    10.060060439307303,
                    10.349204995339194,
                    11.7789960831843,
                    10.003839546462832,
                    11.144911042902732,
                    10.754345923917311,
                    10.370822624347584,
                    10.822504165817511,
                    10.51225262382344,
                    11.56792715475193,
                    10.059354039524033,
                    9.409283029786373,
                    10.283659467741664,
                    10.83096982484206,
                    10.968576149165091,
                    10.837272366712863,
                    10.744054237880762,
                    10.974070668482735,
                    9.93914036985058,
                    10.83096982484206,
                    10.227464909398025,
                    10.726662495168894,
                    10.2484380327783,
                    10.860047678274915,
                    10.975129468486722,
                    11.295425956041104,
                    10.732493415479688,
                    9.964522443121997,
                    9.954446791133256,
                    11.18267988243989,
                    10.525211768465944,
                    10.370805929717411,
                    11.254189968552817,
                    11.383485348791732,
                    10.525211768465944,
                    10.510802297245792,
                    11.063134731790107,
                    11.061462490597744,
                    10.931153634628432,
                    10.717261720884188,
                    10.37232400089118,
                    10.159709917169616,
                    10.333403292740233,
                    11.105659536357711,
                    10.55342238395318,
                    9.83063294843456,
                    10.447907320733034,
                    10.99575173454406,
                    11.17598591917709,
                    10.46628456073464,
                    10.003598553570956,
                    11.05978744833005,
                    11.144911042902732,
                    11.275358392990295,
                    11.116014069333293,
                    11.204674904025437,
                    11.219074000897615,
                    10.55758616512496,
                    11.37128263483418,
                    11.219066852909238,
                    10.963974208231726,
                    11.005825930702713,
                    10.310615277730191,
                    10.994857679947176,
                    10.147261623643049,
                    11.690461589827628,
                    10.419692282932576,
                    11.123120297421588,
                    10.087028365734811,
                    9.532389087931673,
                    10.675061366393813,
                    9.603146168052769,
                    11.216927309554451,
                    10.808592759018332,
                    10.435449831034946,
                    10.082583913974387,
                    10.760018088869778,
                    10.324700017611931,
                    10.369151780182763,
                    10.87124372398,
                    9.506417665734745,
                    10.81931097523836,
                    10.188167121983652,
                    10.525211768465944,
                    10.460196261867386,
                    10.99308509015976,
                    10.742904151497523,
                    10.375818471540954,
                    9.88635767027266,
                    10.977716980635757,
                    11.583439099510642,
                    9.816202683605532,
                    11.590859366057948,
                    10.078119620845705,
                    11.105867681227291,
                    10.776844060703754,
                    10.186161103256786,
                    11.51989313428582,
                    10.96212748563856,
                    10.403666298916727,
                    10.419692282932576,
                    11.157152970844,
                    10.931153634628432,
                    10.078119620845705,
                    9.974497588178815,
                    10.666403303650696,
                    10.56586207442882,
                    10.959350991490268,
                    9.827763506006608,
                    11.470547260182666,
                    9.871367833143674,
                    10.942047370678033,
                    10.725492220020705,
                    10.60095339424009,
                    11.18267988243989,
                    10.525211768465944,
                    9.70890230312988,
                    10.167923515707006,
                    10.803190260734986,
                    10.104611236292678,
                    10.082583913974387,
                    11.912578515747589,
                    10.676292135779944,
                    11.288114524334732,
                    10.931153634628432,
                    11.219074000897615,
                    11.49796125761926,
                    10.651384247866982,
                    11.064804181259648,
                    11.320925866649002,
                    11.757534260666516,
                    10.633572072102885,
                    10.872255357854844,
                    10.964896292206694,
                    11.921470624845266,
                    9.536242657247662,
                    10.883216300213936,
                    10.523780128994506,
                    10.70777173269934,
                    10.793391597686284,
                    12.69144112852859,
                    10.841452101115571,
                    11.204674904025437,
                    10.927333190631044,
                    11.495795582706762,
                    10.176070200274824,
                    10.584910269399517,
                    11.442360501250736,
                    12.000095897837827,
                    11.21835894902589,
                    10.060060439307303,
                    11.550632725739694,
                    11.254189968552817,
                    10.367478139624737,
                    10.633572072102885,
                    11.224776083346525,
                    9.83063294843456,
                    10.283659467741664,
                    11.288114524334732,
                    10.812765077263236,
                    10.35398720988372,
                    10.913845510249091,
                    11.02220830408089,
                    11.129394827810977,
                    10.49374915225888,
                    10.776844060703754,
                    11.193004457928666,
                    10.65264448747927,
                    11.781988742399806,
                    10.699393467053342,
                    10.731341589592168,
                    10.620651995737775,
                    10.767905453702944,
                    11.12154549394652,
                    9.964497380151284,
                    9.77465368069266,
                    11.288114524334732,
                    10.73132994821639,
                    10.510802297245792,
                    10.776844060703754,
                    9.941707765355826,
                    10.329931067029484,
                    12.241725462844624,
                    10.716080385838357,
                    10.35398720988372,
                    11.018720942220474,
                    10.765658261746038,
                    10.754345923917311,
                    10.959350991490268,
                    10.868202667404224,
                    10.301710499387234,
                    11.981595204981144,
                    10.490273717104664,
                    11.596266113070396,
                    10.683645110085203,
                    11.470547260182666,
                    10.126163794678414,
                    11.49796125761926,
                    10.529494430257945,
                    10.83096982484206,
                    10.075655737865564,
                    10.94064137183354,
                    11.799206957067089,
                    11.413356147904066,
                    11.016097416448089,
                    10.07138558866436,
                    10.55758616512496,
                    10.463245044716745,
                    10.312386757378574,
                    10.658921971998408,
                    11.288114524334732,
                    10.121890283901031,
                    10.901156223342602,
                    10.755482933704386,
                    11.555699396421488,
                    11.320925866649002,
                    10.57552675900535,
                    11.799206957067089,
                    10.675061366393813,
                    10.545140618545505,
                    10.977716980635757,
                    10.588945244611692,
                    10.167923515707006,
                    10.71962021254348,
                    10.73132994821639,
                    10.034684221813931,
                    10.695781181367428,
                    10.336863503805128,
                    10.833075088777523,
                    10.46628456073464,
                    10.975895486507364,
                    10.860047678274915,
                    11.047982926769505,
                    10.466299735126338,
                    9.268865850956626,
                    11.0547454208418,
                    10.167923515707006,
                    11.487085674623,
                    10.580858947180335,
                    11.144911042902732,
                    10.862092668762644,
                    11.942792677133784,
                    10.188167121983652,
                    11.267217235406594,
                    10.208009042782656,
                    11.635675345406062,
                    10.450993742936223,
                    10.283659467741664,
                    11.118388427393754,
                    9.861637279518702,
                    11.563884703567355,
                    10.925417481232904,
                    10.683645110085203,
                    10.126163794678414,
                    10.882315804880689,
                    11.799206957067089,
                    11.624777346052769,
                    10.126163794678414,
                    9.592332123898704,
                    10.71371352082809,
                    11.7789960831843,
                    10.106570100778011,
                    10.863113597896753,
                    10.159709917169616,
                    11.13950771057468,
                    10.35398720988372,
                    10.97315700921406,
                    10.780175546294757,
                    10.46628456073464,
                    9.652314828500415,
                    10.283659467741664,
                    10.93201122675303,
                    11.172247597066484,
                    11.853716362735458,
                    11.064804181259648,
                    10.82462730886559,
                    11.171498252707703,
                    10.082583913974387,
                    10.882315804880689,
                    11.120757161229305,
                    10.931153634628432,
                    11.017847198171877,
                    9.592295759601168,
                    11.016753943443987,
                    9.591968421403331,
                    10.776844060703754,
                    10.54924119319278,
                    11.624777346052769,
                    11.340108040487776,
                    11.004648590381796,
                    9.6067728080535,
                    11.358282600039752,
                    9.902487052202543,
                    10.472336016417996,
                    11.590080353983309,
                    11.148752768718731,
                    11.226196538130814,
                    11.436206670969892,
                    11.221929106334594,
                    10.853784502608232,
                    9.750081515393676,
                    10.882315804880689,
                    10.298790318518323,
                    11.23889064370897,
                    10.060060439307303,
                    10.826745953725876,
                    10.55342238395318,
                    10.435465480609668,
                    10.188167121983652,
                    9.93914036985058,
                    10.964896292206694,
                    10.671359943290623,
                    10.776844060703754,
                    11.442932093149691,
                    10.977716980635757,
                    10.030000372501505,
                    11.671319016786894,
                    10.167923515707006,
                    10.742915658911176,
                    10.167903065600154,
                    10.290919027754468,
                    9.70890230312988,
                    9.631552837051986,
                    10.716080385838357,
                    11.058109595587434,
                    9.975737513942136,
                    11.387117314043296,
                    10.977716980635757,
                    11.44230332408728,
                    11.708368556654154,
                    10.283659467741664,
                    11.197396851520583,
                    11.64178295189486,
                    11.803200572598556,
                    10.921575017331362,
                    11.34767905456992,
                    10.518018577413224,
                    11.18267988243989,
                    10.633405177560588,
                    10.188167121983652,
                    11.08997268702302,
                    10.81931097523836,
                    11.88100267529242,
                    11.84839720125786,
                    9.699146128184514,
                    11.307930232161196,
                    11.018284165624754,
                    10.754345923917311,
                    11.69380197819145,
                    11.510857728676225,
                    11.44121633636619,
                    11.402110098629436,
                    9.989276182274937,
                    9.694067896286716,
                    11.53824227295402,
                    11.547549475609571,
                    10.126163794678414,
                    10.64634002126892,
                    10.808592759018332,
                    10.37065566550255,
                    10.510802297245792,
                    11.288781413322436,
                    10.267037568910904,
                    11.078373090310093,
                    11.52464373704442,
                    10.082583913974387,
                    11.23889064370897,
                    10.367478139624737,
                    11.912578515747589,
                    11.030873869571886,
                    11.016447617817454,
                    10.977716980635757,
                    11.575963360732532,
                    9.67600459962282,
                    9.570272405833974,
                    10.89326663606744,
                    10.370822624347584,
                    11.777361428141106,
                    11.7789960831843,
                    11.410999046046683,
                    9.824885806178992,
                    11.671319016786894,
                    11.75125677614738,
                    10.301710499387234,
                    10.227464909398025,
                    10.594300009749354,
                    11.240291204162,
                    9.83063294843456,
                    10.977716980635757,
                    11.047982926769505,
                    10.066418317218153,
                    11.572957346444928,
                    10.910678521970082,
                    11.83458800598367,
                    10.35398720988372,
                    11.563884703567355,
                    11.311195008159336,
                    11.179710318268071,
                    10.862092668762644,
                    10.147261623643049,
                    11.599202972743706,
                    10.872255357854844,
                    11.470547260182666,
                    10.436872940377548,
                    10.274510273088076,
                    10.050907057320815,
                    10.594300009749354,
                    10.658921971998408,
                    11.62048037119099,
                    9.692588727638356,
                    10.126163794678414,
                    10.607562803627763,
                    11.413356147904066,
                    11.502816945605918,
                    11.575963360732532,
                    11.026550473300178,
                    11.12626248382466,
                    11.494086806506765,
                    11.144911042902732,
                    10.58221121243035,
                    11.762112832660844,
                    11.19373786463554,
                    10.490273717104664,
                    11.39733681987678,
                    11.116014069333293,
                    10.349904182775484,
                    10.56311104105693,
                    9.49261223560568,
                    10.312386757378574,
                    10.931153634628432,
                    11.732612168264149,
                    11.52464373704442,
                    11.4699912412637,
                    11.551145677789926,
                    10.895234994607796,
                    11.912578515747589,
                    11.18342089766461,
                    10.336863503805128,
                    11.12154549394652,
                    10.977716980635757,
                    10.776732819811487,
                    11.442360501250736,
                    10.83096982484206,
                    10.790103923492092,
                    9.80450664384234,
                    10.403650143697382,
                    11.352694739066088,
                    9.67600459962282,
                    9.555290852218356,
                    10.83096982484206,
                    11.085440489304403,
                    10.393925962168344,
                    11.16321819034709,
                    11.02220830408089,
                    10.776844060703754,
                    10.435465480609668,
                    10.704189639316835,
                    11.081544019025282,
                    11.219752826912,
                    9.47681923677686,
                    10.232212772652003,
                    11.971204630519404,
                    10.765658261746038,
                    11.291444530741918,
                    11.219074000897615,
                    11.219074000897615,
                    11.129965423395353,
                    10.510802297245792,
                    10.765658261746038,
                    11.17598591917709,
                    10.658921971998408,
                    10.104611236292678,
                    10.34717287346399,
                    11.203223524960787,
                    11.98617622657084,
                    10.732493415479688,
                    11.144911042902732,
                    9.88635767027266,
                    11.383485348791732,
                    11.197396851520583,
                    10.656930001858216,
                    9.964497380151284,
                    11.470547260182666,
                    10.73132994821639,
                    11.219074000897615,
                    10.576614498925236,
                    11.018720942220474,
                    10.657669623681942,
                    9.83063294843456,
                    10.534467797525002,
                    10.641244744014545,
                    10.11188320625578,
                    9.959497306919324,
                    11.430859511915424,
                    10.188167121983652,
                    10.993953872709785,
                    11.876197639250138,
                    10.274785970374204,
                    11.130176383145796,
                    9.387207078087174,
                    9.51682457139056,
                    10.83096982484206,
                    10.319265697988737,
                    10.401887658299067,
                    9.83063294843456,
                    10.421280845617712,
                    11.558808550535495,
                    11.981595204981144,
                    10.70777173269934,
                    11.352694739066088,
                    10.841452101115571,
                    10.580858947180335,
                    9.816202683605532,
                    10.87326596936077,
                    11.504424909404817,
                    9.93914036985058,
                    10.450993742936223,
                    10.696986727022775,
                    10.50497986449436,
                    9.49301392269684,
                    11.50657735831005,
                    11.862769612046066,
                    11.887251546940472,
                    10.594313360795072,
                    9.93914036985058,
                    10.89180021486258,
                    10.55342238395318,
                    11.313402478637911,
                    9.662536382571954,
                    11.737306010891048,
                    11.2874471903093,
                    11.397934727218958,
                    10.38737929394203,
                    11.454295851800008,
                    10.580858947180335,
                    10.83096982484206,
                    10.37747822295932,
                    11.413356147904066,
                    10.246549458090431,
                    10.104611236292678,
                    11.588886005772771,
                    11.271296098981416,
                    11.396139931642937,
                    11.450333208630004,
                    11.081347155713406,
                    10.480567504600335,
                    9.771618776997505,
                    11.671319016786894,
                    10.11759843181949,
                    11.715790550995315,
                    11.219074000897615,
                    10.310615277730191,
                    11.144911042902732,
                    9.83063294843456,
                    12.472347407870709,
                    10.754357300416876,
                    10.071160338072124,
                    9.858883414720411,
                    10.742904151497523,
                    11.038609189620306,
                    10.319441460358464,
                    11.211900368986475,
                    11.702152960779438,
                    9.91309723131456,
                    11.00021005668577,
                    11.265171547683302,
                    10.629713546415353,
                    10.658921971998408,
                    10.812893840917726,
                    10.776844060703754,
                    9.452024578163645,
                    10.12402932214978,
                    10.435481129939486,
                    11.482152806302976,
                    11.525170191386666,
                    11.274682488942933,
                    10.695781181367428,
                    10.336863503805128,
                    9.964522443121997,
                    10.785284424941176,
                    11.508719833687696,
                    9.49301392269684,
                    11.44716312967751,
                    11.758368289071829,
                    10.9867750135825,
                    10.23111911098328,
                    11.779404329770909,
                    11.039464987704202,
                    10.084808608996498,
                    9.588689132620203,
                    10.79884714858782,
                    11.838443060873624,
                    11.076412935176185,
                    11.343269598606504,
                    11.912578515747589,
                    10.53941655276426,
                    11.254810893751282,
                    11.058781074545012,
                    9.875184369674535,
                    10.945351696133724,
                    10.79884714858782,
                    11.009948956147635,
                    11.06229896074271,
                    12.029883488676532,
                    11.089517135798168,
                    10.013431946154272,
                    10.25782777312814,
                    10.265276597141131,
                    11.27992228688911,
                    10.186161103256786,
                    10.837272366712863,
                    10.588945244611692,
                    11.11283946349252,
                    9.99658437558166,
                    11.508104342010856,
                    10.682362236272311,
                    10.916751081300507,
                    9.83063294843456,
                    10.525211768465944,
                    11.14105450129298,
                    11.009948956147635,
                    10.180118788800824,
                    11.715790550995315,
                    11.144911042902732,
                    10.8812140971224,
                    10.013431946154272,
                    11.601643784304514,
                    10.525211768465944,
                    11.288114524334732,
                    11.917834418453076,
                    10.393289544363068,
                    10.277575423651992,
                    10.319441460358464,
                    9.73761240901231,
                    9.902487052202543,
                    10.525211768465944,
                    11.529366637136484,
                    11.834974180925718,
                    10.85594510841814,
                    9.570272405833974,
                    11.442360501250736,
                    10.481345086360362,
                    11.512991062818642,
                    10.510802297245792,
                    10.683645110085203,
                    9.964522443121997,
                    10.03701794516015,
                    10.407616483423654,
                    10.084808608996498,
                    10.653903140886465,
                    10.882315804880689,
                    11.50120100127367,
                    11.058109595587434,
                    10.460211528926417,
                    11.105659536357711,
                    10.968576149165091,
                    10.56311104105693,
                    9.672654512737536,
                    11.238652353231751,
                    10.729080621774308,
                    11.047982926769505,
                    9.672654512737536,
                    9.555290852218356,
                    11.065637862008224,
                    11.406054689443872,
                    10.704907085240231,
                    11.288114524334732,
                    12.1806155047626,
                    11.182294337407903,
                    10.169762314876662,
                    10.55342238395318,
                    10.450993742936223,
                    10.354869672690878,
                    10.167923515707006,
                    11.543423631696015,
                    10.450993742936223,
                    10.452533389121816,
                    10.301710499387234,
                    10.842494310694017,
                    10.633572072102885,
                    11.76667053684216,
                    10.46628456073464,
                    11.6226216177553,
                    9.993667504286536,
                    11.071454247329664,
                    10.475348066887989,
                    11.311846686253432,
                    10.882315804880689,
                    12.076935697460716,
                    9.77465368069266,
                    11.383485348791732,
                    10.265276597141131,
                    11.002618186839925,
                    12.362417715920367,
                    10.138875830266777,
                    11.525170191386666,
                    10.336863503805128,
                    10.974983493740094,
                    10.720679721736714,
                    11.064804181259648,
                    10.977716980635757,
                    11.328642946747566,
                    11.937276356672394,
                    10.370822624347584,
                    10.93019989111312,
                    11.503355013953575,
                    11.32736089528991,
                    11.004648590381796,
                    10.71962021254348,
                    10.460196261867386,
                    10.12901686366082,
                    10.977716980635757,
                    11.352694739066088,
                    9.672654512737536,
                    11.049906436113686,
                    11.470547260182666,
                    10.90311893251045,
                    10.977716980635757,
                    11.101648299531258,
                    10.70777173269934,
                    11.74620626036131,
                    10.430759589572256,
                    11.947682155153789,
                    10.34185963789476,
                    12.161134189998078,
                    11.737731633370338,
                    11.45090026279887,
                    9.771618776997505,
                    11.715790550995315,
                    11.520422094890591,
                    10.968576149165091,
                    10.882315804880689,
                    11.715790550995315,
                    10.868202667404224,
                    11.175239371923306,
                    9.288274273063903,
                    11.561349847964168,
                    10.841452101115571,
                    11.036037392231934,
                    11.72918457279188,
                    9.67600459962282,
                    10.67259527389862,
                    11.18267988243989,
                    10.580858947180335,
                    11.608398104304564,
                    10.977716980635757,
                    11.288114524334732,
                    11.442360501250736,
                    10.587602061065226,
                    11.211900368986475,
                    10.634854945915771,
                    10.419692282932576,
                    11.401514683309674,
                    10.38737929394203,
                    11.442360501250736,
                    11.765015592318807,
                    11.288114524334732,
                    10.843535435202426,
                    10.647353436437802,
                    11.503355013953575,
                    11.470547260182666,
                    9.928804360519916,
                    11.801613023751164,
                    10.602278775481158,
                    10.169762314876662,
                    10.969494001455322,
                    11.799206957067089,
                    11.064804181259648,
                    11.511924964636645,
                    10.188167121983652,
                    11.189329334350775,
                    10.34717287346399,
                    9.84767881570755,
                    10.403666298916727,
                    12.587882562739948,
                    11.624777346052769,
                    10.227464909398025,
                    11.053902605789805,
                    11.38409159312676,
                    11.903833710189655,
                    11.76667053684216,
                    10.481345086360362,
                    9.759386208561873,
                    10.3556835631319,
                    11.470547260182666,
                    12.0059347920825,
                    10.78900562574303,
                    10.546429982871398,
                    11.509254736080766,
                    10.580858947180335,
                    10.397183294038651,
                    10.908984051962848,
                    11.706175092295874,
                    11.267217235406594,
                    9.67600459962282,
                    11.52464373704442,
                    10.738290533164012,
                    11.526747893528285,
                    10.643789274649537,
                    10.826745953725876,
                    10.082583913974387,
                    11.822932862391925,
                    10.450993742936223,
                    10.126163794678414,
                    10.7215735450074,
                    11.18267988243989,
                    11.134075023561454,
                    10.900173422280696,
                    11.68979217108122,
                    10.78900562574303,
                    10.974070668482735,
                    11.551145677789926,
                    10.780175546294757,
                    11.458805442305984,
                    10.9368570721423,
                    10.147261623643049,
                    11.211180167298885,
                    10.575431525444971,
                    11.49796125761926,
                    11.408044834149251,
                    9.964497380151284,
                    10.81610755552082,
                    10.79174911168878,
                    10.70777173269934,
                    11.41394455627644,
                    10.504687851059666,
                    9.827763506006608,
                    10.481345086360362,
                    9.88635767027266,
                    11.470547260182666,
                    10.09739572450197,
                    11.198054049689478,
                    9.669293165034832,
                    9.91309723131456,
                    11.118388427393754,
                    11.219074000897615,
                    11.413356147904066,
                    11.470547260182666,
                    11.857498515504204,
                    11.271974295006054,
                    10.809669765045973,
                    10.777955789556444,
                    10.395555954379276,
                    10.81610755552082,
                    11.582992127736915,
                    11.129394827810977,
                    11.383485348791732,
                    11.600668174471034,
                    11.557785126252114,
                    11.624777346052769,
                    11.277383368370064,
                    9.858883414720411,
                    10.646327347078008,
                    11.52464373704442,
                    11.06979587215689,
                    12.01471841670537,
                    10.646327347078008,
                    10.902128245864017,
                    10.188167121983652,
                    10.756618652168314,
                    10.842494310694017,
                    11.352694739066088,
                    11.18267988243989,
                    10.996564630149608,
                    10.504965265847654,
                    11.143362500418624,
                    11.02220830408089,
                    11.563884703567355,
                    11.484896292248726,
                    10.56846856468972,
                    11.38409159312676,
                    11.036037392231934,
                    10.538089862097848,
                    11.02220830408089,
                    9.70890230312988,
                    11.340108040487776,
                    9.641641633704324,
                    11.470547260182666,
                    10.983161640183988,
                    11.395540949893968,
                    10.30099467974321,
                    11.064804181259648,
                    11.377402604975964,
                    11.89782208458538,
                    11.219074000897615,
                    10.2484380327783,
                    10.403666298916727,
                    10.99575173454406,
                    11.144911042902732,
                    10.882315804880689,
                    11.27007418585674,
                    10.50497986449436,
                    10.46628456073464,
                    9.83063294843456,
                    11.69380197819145,
                    11.45711672814165,
                    11.261752740934517,
                    11.030873869571886,
                    11.281414342976868,
                    12.031987793755118,
                    11.52464373704442,
                    10.62842405558548,
                    11.120757161229305,
                    9.93914036985058,
                    11.311846686253432,
                    11.448630114264333,
                    10.892276046585742,
                    11.465531925066934,
                    10.716671227805325,
                    10.118930877053268,
                    10.690944412566814,
                    10.50497986449436,
                    12.030401247333158,
                    10.519472871796928,
                    11.52464373704442,
                    11.55778003196968,
                    11.91293572239543,
                    11.048830743691845,
                    11.601107316686976,
                    10.862092668762644,
                    10.885314307876945,
                    11.470547260182666,
                    10.336863503805128,
                    11.442360501250736,
                    11.144911042902732,
                    11.061462490597744,
                    10.283659467741664,
                    10.450993742936223,
                    10.794485091507656,
                    10.370822624347584,
                    10.667644768738764,
                    11.056428922922915,
                    10.594300009749354,
                    10.99575173454406,
                    11.529371878240363,
                    10.188167121983652,
                    9.576276649067632,
                    11.18267988243989,
                    10.765658261746038,
                    11.02307824758943,
                    11.18267988243989,
                    9.915732278952564,
                    11.470547260182666,
                    11.6200017877887,
                    11.114428026177658,
                    11.056428922922915,
                    10.280009828654116,
                    10.633572072102885,
                    10.978617394068182,
                    11.06979587215689,
                    11.254189968552817,
                    10.931401459017524,
                    10.503518943854685,
                    10.83096982484206,
                    11.314449160071012,
                    11.34705032144641,
                    11.518415853167008,
                    10.660172753900062,
                    11.07393666482292,
                    10.621938553982543,
                    11.971204630519404,
                    11.28209242517164,
                    11.684869359618002,
                    10.655147649183531,
                    11.34705032144641,
                    11.02220830408089,
                    11.053421883178572,
                    10.928710232504155,
                    11.32736089528991,
                    11.056428922922915,
                    10.941585213338248,
                    11.368208546953756,
                    10.9602773463504,
                    10.85594510841814,
                    9.989276182274937,
                    11.058781074545012,
                    11.061462490597744,
                    11.089508999068563,
                    11.18267988243989,
                    10.584910269399517,
                    11.428543355697592,
                    10.944364366779205,
                    10.893771459117888,
                    10.717261720884188,
                    9.326470842899342,
                    11.237488118934884,
                    10.93172544442196,
                    10.88331630521427,
                    11.626842862666368,
                    11.26789820240601,
                    11.318754369272693,
                    11.711863755958657,
                    9.638174223850264,
                    11.846490622987275,
                    10.862092668762644,
                    10.97315700921406,
                    10.862092668762644,
                    11.696022720831856,
                    10.533971572370383,
                    10.188167121983652,
                    10.082583913974387,
                    11.144911042902732,
                    11.481603204750256,
                    10.950974953688084,
                    10.881314302543595,
                    10.301710499387234,
                    10.873255868299651,
                    11.540318039137862,
                    11.260381938800736,
                    12.263341053320566,
                    10.657682154931749,
                    11.167743084945378,
                    11.145680569681762,
                    10.15346364564591,
                    11.064804181259648,
                    11.064804181259648,
                    10.969494001455322,
                    11.421848531521595,
                    10.46628456073464,
                    10.860047678274915,
                    11.799206957067089,
                    10.267130165790451,
                    10.821440901496183,
                    11.219074000897615,
                    12.05888963501851,
                    10.446778399351528,
                    11.600668174471034,
                    10.59563423276249,
                    10.913835810881007,
                    11.28544251205692,
                    11.064804181259648,
                    10.397183294038651,
                    9.933985719261916,
                    9.950616680806068,
                    9.82197089913809,
                    11.352694739066088,
                    10.682851144184026,
                    11.352694739066088,
                    10.658921971998408,
                    10.435152442572992,
                    11.352694739066088,
                    10.190169124654323,
                    11.715790550995315,
                    11.010081106005767,
                    11.037726951247386,
                    9.317895278196945,
                    11.947682155153789,
                    11.064804181259648,
                    11.229102177820836,
                    11.296213725139731,
                    10.740600003012675,
                    9.962013031516571,
                    11.175239371923306,
                    11.413356147904066,
                    10.620847035233894,
                    10.03701794516015,
                    11.56084210487126,
                    10.283659467741664,
                    11.204674904025437,
                    11.894913580522502,
                    10.911903762066183,
                    11.683522558067624,
                    11.155242401621267,
                    9.253675685462651,
                    11.408044834149251,
                    11.29741074002049,
                    10.236346354272076,
                    10.050907057320815,
                    11.395540949893968,
                    10.147261623643049,
                    11.52253514374866,
                    10.872255357854844,
                    11.004648590381796,
                    10.419692282932576,
                    11.601341447040118,
                    9.60318213992277,
                    10.598297350181973,
                    10.398807989765654,
                    10.977716980635757,
                    12.256879973855344,
                    10.639970046582542,
                    11.758368289071829,
                    11.658835785532077,
                    11.775314344519382,
                    11.016797696588752,
                    11.37128263483418,
                    11.684869359618002,
                    11.470547260182666,
                    11.52464373704442,
                    11.71489846116146,
                    10.893167621264643,
                    11.340108040487776,
                    11.733039792816312,
                    9.801561133612584,
                    9.669293165034832,
                    10.370822624347584,
                    11.064804181259648,
                    11.694548697992886,
                    10.147031952176633,
                    11.283969856325212,
                    11.715790550995315,
                    10.645680750246626,
                    11.596756189041978,
                    11.288114524334732,
                    11.45373072039192,
                    10.776844060703754,
                    10.104611236292678,
                    10.143056552540132,
                    11.2874471903093,
                    11.212620052356872,
                    10.12402932214978,
                    9.49301392269684,
                    10.70777173269934,
                    10.49618215379083,
                    11.030873869571886,
                    9.88635767027266,
                    9.962013031516571,
                    10.53941655276426,
                    10.620651995737775,
                    10.690944412566814,
                    11.149519345988928,
                    11.650350362059475,
                    10.452533389121816,
                    11.37618160360327,
                    10.698190821087582,
                    10.772395917628929,
                    9.783703516212578,
                    10.658921971998408,
                    10.787906120409612,
                    11.047982926769505,
                    10.513700849999804,
                    10.977716980635757,
                    11.838443060873624,
                    10.683645110085203,
                    10.159709917169616,
                    11.034319178750795,
                    11.064804181259648,
                    11.166237060564342,
                    9.883643964401063,
                    11.648784147353842,
                    9.58136309252813,
                    11.600619368985289,
                    10.188167121983652,
                    10.419692282932576,
                    11.134075023561454,
                    11.869133099737036,
                    11.039464987704202,
                    10.765658261746038,
                    10.336863503805128,
                    9.67600459962282,
                    10.419692282932576,
                    11.7789960831843,
                    11.129394827810977,
                    11.442360501250736,
                    11.550627594890203,
                    10.882315804880689,
                    11.550632725739694,
                    9.134616325446665,
                    10.369151780182763,
                    10.265276597141131,
                    11.1239067701322,
                    11.02220830408089,
                    11.307930232161196,
                    11.272726554360904,
                    10.246549458090431,
                    11.421778496562451,
                    10.208009042782656,
                    9.70890230312988,
                    11.273329308763511,
                    10.23296037890921,
                    10.911903762066183,
                    11.02220830408089,
                    11.38409159312676,
                    12.135793518599822,
                    10.126185116412724,
                    11.352069152558354,
                    10.841452101115571,
                    10.14517175872359,
                    11.670950599679989,
                    10.578148918421473,
                    11.039464987704202,
                    11.288114524334732,
                    10.368432457987426,
                    11.130176383145796,
                    9.866652599193328,
                    11.470547260182666,
                    10.978617394068182,
                    11.353319934460009,
                    10.749784912589748,
                    11.727036344253593,
                    10.326446742946873,
                    11.478299236986985,
                    9.756304542024465,
                    9.964522443121997,
                    10.319441460358464,
                    10.952842367862882,
                    10.0713630658882,
                    9.801561133612584,
                    11.525170191386666,
                    10.169966417336806,
                    10.772384744506988,
                    11.089517135798168,
                    10.70060667312884,
                    10.567234758240792,
                    10.104611236292678,
                    9.641987714344566,
                    9.91309723131456,
                    10.776844060703754,
                    10.285461122475176,
                    10.667632361713904,
                    9.317895278196945,
                    10.5552565839505,
                    10.433899309576924,
                    11.288114524334732,
                    9.409283029786373,
                    10.614128815398654
                  ],
                  "y0": 0
                }
              ],
              "layout": {
                "barmode": "overlay",
                "template": {
                  "data": {
                    "bar": [
                      {
                        "error_x": {
                          "color": "#2a3f5f"
                        },
                        "error_y": {
                          "color": "#2a3f5f"
                        },
                        "marker": {
                          "line": {
                            "color": "white",
                            "width": 0.5
                          },
                          "pattern": {
                            "fillmode": "overlay",
                            "size": 10,
                            "solidity": 0.2
                          }
                        },
                        "type": "bar"
                      }
                    ],
                    "barpolar": [
                      {
                        "marker": {
                          "line": {
                            "color": "white",
                            "width": 0.5
                          },
                          "pattern": {
                            "fillmode": "overlay",
                            "size": 10,
                            "solidity": 0.2
                          }
                        },
                        "type": "barpolar"
                      }
                    ],
                    "carpet": [
                      {
                        "aaxis": {
                          "endlinecolor": "#2a3f5f",
                          "gridcolor": "#C8D4E3",
                          "linecolor": "#C8D4E3",
                          "minorgridcolor": "#C8D4E3",
                          "startlinecolor": "#2a3f5f"
                        },
                        "baxis": {
                          "endlinecolor": "#2a3f5f",
                          "gridcolor": "#C8D4E3",
                          "linecolor": "#C8D4E3",
                          "minorgridcolor": "#C8D4E3",
                          "startlinecolor": "#2a3f5f"
                        },
                        "type": "carpet"
                      }
                    ],
                    "choropleth": [
                      {
                        "colorbar": {
                          "outlinewidth": 0,
                          "ticks": ""
                        },
                        "type": "choropleth"
                      }
                    ],
                    "contour": [
                      {
                        "colorbar": {
                          "outlinewidth": 0,
                          "ticks": ""
                        },
                        "colorscale": [
                          [
                            0,
                            "#0d0887"
                          ],
                          [
                            0.1111111111111111,
                            "#46039f"
                          ],
                          [
                            0.2222222222222222,
                            "#7201a8"
                          ],
                          [
                            0.3333333333333333,
                            "#9c179e"
                          ],
                          [
                            0.4444444444444444,
                            "#bd3786"
                          ],
                          [
                            0.5555555555555556,
                            "#d8576b"
                          ],
                          [
                            0.6666666666666666,
                            "#ed7953"
                          ],
                          [
                            0.7777777777777778,
                            "#fb9f3a"
                          ],
                          [
                            0.8888888888888888,
                            "#fdca26"
                          ],
                          [
                            1,
                            "#f0f921"
                          ]
                        ],
                        "type": "contour"
                      }
                    ],
                    "contourcarpet": [
                      {
                        "colorbar": {
                          "outlinewidth": 0,
                          "ticks": ""
                        },
                        "type": "contourcarpet"
                      }
                    ],
                    "heatmap": [
                      {
                        "colorbar": {
                          "outlinewidth": 0,
                          "ticks": ""
                        },
                        "colorscale": [
                          [
                            0,
                            "#0d0887"
                          ],
                          [
                            0.1111111111111111,
                            "#46039f"
                          ],
                          [
                            0.2222222222222222,
                            "#7201a8"
                          ],
                          [
                            0.3333333333333333,
                            "#9c179e"
                          ],
                          [
                            0.4444444444444444,
                            "#bd3786"
                          ],
                          [
                            0.5555555555555556,
                            "#d8576b"
                          ],
                          [
                            0.6666666666666666,
                            "#ed7953"
                          ],
                          [
                            0.7777777777777778,
                            "#fb9f3a"
                          ],
                          [
                            0.8888888888888888,
                            "#fdca26"
                          ],
                          [
                            1,
                            "#f0f921"
                          ]
                        ],
                        "type": "heatmap"
                      }
                    ],
                    "heatmapgl": [
                      {
                        "colorbar": {
                          "outlinewidth": 0,
                          "ticks": ""
                        },
                        "colorscale": [
                          [
                            0,
                            "#0d0887"
                          ],
                          [
                            0.1111111111111111,
                            "#46039f"
                          ],
                          [
                            0.2222222222222222,
                            "#7201a8"
                          ],
                          [
                            0.3333333333333333,
                            "#9c179e"
                          ],
                          [
                            0.4444444444444444,
                            "#bd3786"
                          ],
                          [
                            0.5555555555555556,
                            "#d8576b"
                          ],
                          [
                            0.6666666666666666,
                            "#ed7953"
                          ],
                          [
                            0.7777777777777778,
                            "#fb9f3a"
                          ],
                          [
                            0.8888888888888888,
                            "#fdca26"
                          ],
                          [
                            1,
                            "#f0f921"
                          ]
                        ],
                        "type": "heatmapgl"
                      }
                    ],
                    "histogram": [
                      {
                        "marker": {
                          "pattern": {
                            "fillmode": "overlay",
                            "size": 10,
                            "solidity": 0.2
                          }
                        },
                        "type": "histogram"
                      }
                    ],
                    "histogram2d": [
                      {
                        "colorbar": {
                          "outlinewidth": 0,
                          "ticks": ""
                        },
                        "colorscale": [
                          [
                            0,
                            "#0d0887"
                          ],
                          [
                            0.1111111111111111,
                            "#46039f"
                          ],
                          [
                            0.2222222222222222,
                            "#7201a8"
                          ],
                          [
                            0.3333333333333333,
                            "#9c179e"
                          ],
                          [
                            0.4444444444444444,
                            "#bd3786"
                          ],
                          [
                            0.5555555555555556,
                            "#d8576b"
                          ],
                          [
                            0.6666666666666666,
                            "#ed7953"
                          ],
                          [
                            0.7777777777777778,
                            "#fb9f3a"
                          ],
                          [
                            0.8888888888888888,
                            "#fdca26"
                          ],
                          [
                            1,
                            "#f0f921"
                          ]
                        ],
                        "type": "histogram2d"
                      }
                    ],
                    "histogram2dcontour": [
                      {
                        "colorbar": {
                          "outlinewidth": 0,
                          "ticks": ""
                        },
                        "colorscale": [
                          [
                            0,
                            "#0d0887"
                          ],
                          [
                            0.1111111111111111,
                            "#46039f"
                          ],
                          [
                            0.2222222222222222,
                            "#7201a8"
                          ],
                          [
                            0.3333333333333333,
                            "#9c179e"
                          ],
                          [
                            0.4444444444444444,
                            "#bd3786"
                          ],
                          [
                            0.5555555555555556,
                            "#d8576b"
                          ],
                          [
                            0.6666666666666666,
                            "#ed7953"
                          ],
                          [
                            0.7777777777777778,
                            "#fb9f3a"
                          ],
                          [
                            0.8888888888888888,
                            "#fdca26"
                          ],
                          [
                            1,
                            "#f0f921"
                          ]
                        ],
                        "type": "histogram2dcontour"
                      }
                    ],
                    "mesh3d": [
                      {
                        "colorbar": {
                          "outlinewidth": 0,
                          "ticks": ""
                        },
                        "type": "mesh3d"
                      }
                    ],
                    "parcoords": [
                      {
                        "line": {
                          "colorbar": {
                            "outlinewidth": 0,
                            "ticks": ""
                          }
                        },
                        "type": "parcoords"
                      }
                    ],
                    "pie": [
                      {
                        "automargin": true,
                        "type": "pie"
                      }
                    ],
                    "scatter": [
                      {
                        "fillpattern": {
                          "fillmode": "overlay",
                          "size": 10,
                          "solidity": 0.2
                        },
                        "type": "scatter"
                      }
                    ],
                    "scatter3d": [
                      {
                        "line": {
                          "colorbar": {
                            "outlinewidth": 0,
                            "ticks": ""
                          }
                        },
                        "marker": {
                          "colorbar": {
                            "outlinewidth": 0,
                            "ticks": ""
                          }
                        },
                        "type": "scatter3d"
                      }
                    ],
                    "scattercarpet": [
                      {
                        "marker": {
                          "colorbar": {
                            "outlinewidth": 0,
                            "ticks": ""
                          }
                        },
                        "type": "scattercarpet"
                      }
                    ],
                    "scattergeo": [
                      {
                        "marker": {
                          "colorbar": {
                            "outlinewidth": 0,
                            "ticks": ""
                          }
                        },
                        "type": "scattergeo"
                      }
                    ],
                    "scattergl": [
                      {
                        "marker": {
                          "colorbar": {
                            "outlinewidth": 0,
                            "ticks": ""
                          }
                        },
                        "type": "scattergl"
                      }
                    ],
                    "scattermapbox": [
                      {
                        "marker": {
                          "colorbar": {
                            "outlinewidth": 0,
                            "ticks": ""
                          }
                        },
                        "type": "scattermapbox"
                      }
                    ],
                    "scatterpolar": [
                      {
                        "marker": {
                          "colorbar": {
                            "outlinewidth": 0,
                            "ticks": ""
                          }
                        },
                        "type": "scatterpolar"
                      }
                    ],
                    "scatterpolargl": [
                      {
                        "marker": {
                          "colorbar": {
                            "outlinewidth": 0,
                            "ticks": ""
                          }
                        },
                        "type": "scatterpolargl"
                      }
                    ],
                    "scatterternary": [
                      {
                        "marker": {
                          "colorbar": {
                            "outlinewidth": 0,
                            "ticks": ""
                          }
                        },
                        "type": "scatterternary"
                      }
                    ],
                    "surface": [
                      {
                        "colorbar": {
                          "outlinewidth": 0,
                          "ticks": ""
                        },
                        "colorscale": [
                          [
                            0,
                            "#0d0887"
                          ],
                          [
                            0.1111111111111111,
                            "#46039f"
                          ],
                          [
                            0.2222222222222222,
                            "#7201a8"
                          ],
                          [
                            0.3333333333333333,
                            "#9c179e"
                          ],
                          [
                            0.4444444444444444,
                            "#bd3786"
                          ],
                          [
                            0.5555555555555556,
                            "#d8576b"
                          ],
                          [
                            0.6666666666666666,
                            "#ed7953"
                          ],
                          [
                            0.7777777777777778,
                            "#fb9f3a"
                          ],
                          [
                            0.8888888888888888,
                            "#fdca26"
                          ],
                          [
                            1,
                            "#f0f921"
                          ]
                        ],
                        "type": "surface"
                      }
                    ],
                    "table": [
                      {
                        "cells": {
                          "fill": {
                            "color": "#EBF0F8"
                          },
                          "line": {
                            "color": "white"
                          }
                        },
                        "header": {
                          "fill": {
                            "color": "#C8D4E3"
                          },
                          "line": {
                            "color": "white"
                          }
                        },
                        "type": "table"
                      }
                    ]
                  },
                  "layout": {
                    "annotationdefaults": {
                      "arrowcolor": "#2a3f5f",
                      "arrowhead": 0,
                      "arrowwidth": 1
                    },
                    "autotypenumbers": "strict",
                    "coloraxis": {
                      "colorbar": {
                        "outlinewidth": 0,
                        "ticks": ""
                      }
                    },
                    "colorscale": {
                      "diverging": [
                        [
                          0,
                          "#8e0152"
                        ],
                        [
                          0.1,
                          "#c51b7d"
                        ],
                        [
                          0.2,
                          "#de77ae"
                        ],
                        [
                          0.3,
                          "#f1b6da"
                        ],
                        [
                          0.4,
                          "#fde0ef"
                        ],
                        [
                          0.5,
                          "#f7f7f7"
                        ],
                        [
                          0.6,
                          "#e6f5d0"
                        ],
                        [
                          0.7,
                          "#b8e186"
                        ],
                        [
                          0.8,
                          "#7fbc41"
                        ],
                        [
                          0.9,
                          "#4d9221"
                        ],
                        [
                          1,
                          "#276419"
                        ]
                      ],
                      "sequential": [
                        [
                          0,
                          "#0d0887"
                        ],
                        [
                          0.1111111111111111,
                          "#46039f"
                        ],
                        [
                          0.2222222222222222,
                          "#7201a8"
                        ],
                        [
                          0.3333333333333333,
                          "#9c179e"
                        ],
                        [
                          0.4444444444444444,
                          "#bd3786"
                        ],
                        [
                          0.5555555555555556,
                          "#d8576b"
                        ],
                        [
                          0.6666666666666666,
                          "#ed7953"
                        ],
                        [
                          0.7777777777777778,
                          "#fb9f3a"
                        ],
                        [
                          0.8888888888888888,
                          "#fdca26"
                        ],
                        [
                          1,
                          "#f0f921"
                        ]
                      ],
                      "sequentialminus": [
                        [
                          0,
                          "#0d0887"
                        ],
                        [
                          0.1111111111111111,
                          "#46039f"
                        ],
                        [
                          0.2222222222222222,
                          "#7201a8"
                        ],
                        [
                          0.3333333333333333,
                          "#9c179e"
                        ],
                        [
                          0.4444444444444444,
                          "#bd3786"
                        ],
                        [
                          0.5555555555555556,
                          "#d8576b"
                        ],
                        [
                          0.6666666666666666,
                          "#ed7953"
                        ],
                        [
                          0.7777777777777778,
                          "#fb9f3a"
                        ],
                        [
                          0.8888888888888888,
                          "#fdca26"
                        ],
                        [
                          1,
                          "#f0f921"
                        ]
                      ]
                    },
                    "colorway": [
                      "#636efa",
                      "#EF553B",
                      "#00cc96",
                      "#ab63fa",
                      "#FFA15A",
                      "#19d3f3",
                      "#FF6692",
                      "#B6E880",
                      "#FF97FF",
                      "#FECB52"
                    ],
                    "font": {
                      "color": "#2a3f5f"
                    },
                    "geo": {
                      "bgcolor": "white",
                      "lakecolor": "white",
                      "landcolor": "white",
                      "showlakes": true,
                      "showland": true,
                      "subunitcolor": "#C8D4E3"
                    },
                    "hoverlabel": {
                      "align": "left"
                    },
                    "hovermode": "closest",
                    "mapbox": {
                      "style": "light"
                    },
                    "paper_bgcolor": "white",
                    "plot_bgcolor": "white",
                    "polar": {
                      "angularaxis": {
                        "gridcolor": "#EBF0F8",
                        "linecolor": "#EBF0F8",
                        "ticks": ""
                      },
                      "bgcolor": "white",
                      "radialaxis": {
                        "gridcolor": "#EBF0F8",
                        "linecolor": "#EBF0F8",
                        "ticks": ""
                      }
                    },
                    "scene": {
                      "xaxis": {
                        "backgroundcolor": "white",
                        "gridcolor": "#DFE8F3",
                        "gridwidth": 2,
                        "linecolor": "#EBF0F8",
                        "showbackground": true,
                        "ticks": "",
                        "zerolinecolor": "#EBF0F8"
                      },
                      "yaxis": {
                        "backgroundcolor": "white",
                        "gridcolor": "#DFE8F3",
                        "gridwidth": 2,
                        "linecolor": "#EBF0F8",
                        "showbackground": true,
                        "ticks": "",
                        "zerolinecolor": "#EBF0F8"
                      },
                      "zaxis": {
                        "backgroundcolor": "white",
                        "gridcolor": "#DFE8F3",
                        "gridwidth": 2,
                        "linecolor": "#EBF0F8",
                        "showbackground": true,
                        "ticks": "",
                        "zerolinecolor": "#EBF0F8"
                      }
                    },
                    "shapedefaults": {
                      "line": {
                        "color": "#2a3f5f"
                      }
                    },
                    "ternary": {
                      "aaxis": {
                        "gridcolor": "#DFE8F3",
                        "linecolor": "#A2B1C6",
                        "ticks": ""
                      },
                      "baxis": {
                        "gridcolor": "#DFE8F3",
                        "linecolor": "#A2B1C6",
                        "ticks": ""
                      },
                      "bgcolor": "white",
                      "caxis": {
                        "gridcolor": "#DFE8F3",
                        "linecolor": "#A2B1C6",
                        "ticks": ""
                      }
                    },
                    "title": {
                      "x": 0.05
                    },
                    "xaxis": {
                      "automargin": true,
                      "gridcolor": "#EBF0F8",
                      "linecolor": "#EBF0F8",
                      "ticks": "",
                      "title": {
                        "standoff": 15
                      },
                      "zerolinecolor": "#EBF0F8",
                      "zerolinewidth": 2
                    },
                    "yaxis": {
                      "automargin": true,
                      "gridcolor": "#EBF0F8",
                      "linecolor": "#EBF0F8",
                      "ticks": "",
                      "title": {
                        "standoff": 15
                      },
                      "zerolinecolor": "#EBF0F8",
                      "zerolinewidth": 2
                    }
                  }
                },
                "title": {
                  "text": "Distribution of the Laptop Price",
                  "x": 0.5,
                  "xanchor": "center",
                  "y": 0.9,
                  "yanchor": "top"
                },
                "xaxis": {
                  "title": {
                    "text": "Price"
                  }
                },
                "yaxis": {
                  "title": {
                    "text": "Count"
                  }
                }
              }
            }
          },
          "metadata": {},
          "output_type": "display_data"
        }
      ],
      "source": [
        "def tar_var_summary(data, target):\n",
        "    fig = go.Figure()\n",
        "    fig.add_trace(go.Violin(x=data[target], line_color='#6C9BCF', name='Happy', y0=0))\n",
        "    fig.update_traces(orientation='h', side='positive', meanline_visible=False)\n",
        "    fig.update_layout(title={'text': 'Distribution of the Laptop Price',\n",
        "                             'y':0.9,\n",
        "                             'x':0.5,\n",
        "                             'xanchor':'center',\n",
        "                             'yanchor':'top'},\n",
        "                             barmode='overlay',\n",
        "                             xaxis = dict(title = 'Price'),\n",
        "                             yaxis=dict(title='Count'),\n",
        "                             template = 'plotly_white')\n",
        "    fig.show()\n",
        "    \n",
        "tar_var_summary(data, 'Price')"
      ]
    },
    {
      "cell_type": "code",
      "execution_count": 50,
      "metadata": {},
      "outputs": [
        {
          "data": {
            "image/png": "[encoded data removed]",
            "text/plain": [
              "<Figure size 1500x600 with 1 Axes>"
            ]
          },
          "metadata": {},
          "output_type": "display_data"
        }
      ],
      "source": [
        "plt.figure(figsize=(15, 6))\n",
        "sns.boxplot(data=data, x='TypeName', y='Price')\n",
        "plt.title('Price Distribution Across Different Type of Laptop')\n",
        "plt.xlabel('Laptop Type')\n",
        "plt.ylabel('Adjusted Price')\n",
        "plt.show()"
      ]
    },
    {
      "cell_type": "code",
      "execution_count": 61,
      "metadata": {},
      "outputs": [
        {
          "data": {
            "image/png": "[encoded data removed]",
            "text/plain": [
              "<Figure size 1500x600 with 1 Axes>"
            ]
          },
          "metadata": {},
          "output_type": "display_data"
        }
      ],
      "source": [
        "plt.figure(figsize=(15, 6))\n",
        "plt.scatter(data=data, x='Ram', y='Price')\n",
        "plt.xlabel('Ram')\n",
        "plt.ylabel('Price')\n",
        "plt.show()"
      ]
    },
    {
      "cell_type": "code",
      "execution_count": 53,
      "metadata": {},
      "outputs": [
        {
          "data": {
            "image/png": "[encoded data removed]",
            "text/plain": [
              "<Figure size 1400x600 with 2 Axes>"
            ]
          },
          "metadata": {},
          "output_type": "display_data"
        }
      ],
      "source": [
        "df = data.copy()\n",
        "\n",
        "#  Median salary by job title\n",
        "pivot_table = df.pivot_table(values='Price', index='Company', columns='TypeName', aggfunc='mean')\n",
        "plt.figure(figsize=(14, 6))\n",
        "sns.heatmap(pivot_table, cmap= \"viridis\", annot = True, fmt = \".2f\", annot_kws={\"size\":10})\n",
        "plt.title('Mean Price by Company and Type of Laptop')\n",
        "plt.xlabel('Laptop Type')\n",
        "plt.ylabel('Company')\n",
        "plt.show()"
      ]
    },
    {
      "cell_type": "code",
      "execution_count": 55,
      "metadata": {},
      "outputs": [
        {
          "data": {
            "image/png": "[encoded data removed]",
            "text/plain": [
              "<Figure size 1400x600 with 2 Axes>"
            ]
          },
          "metadata": {},
          "output_type": "display_data"
        }
      ],
      "source": [
        "df = data.copy()\n",
        "\n",
        "#  Median salary by job title\n",
        "pivot_table = df.pivot_table(values='Price', index='SSD', columns='Ram', aggfunc='mean')\n",
        "plt.figure(figsize=(14, 6))\n",
        "sns.heatmap(pivot_table, cmap= \"viridis\", annot = True, fmt = \".2f\", annot_kws={\"size\":10})\n",
        "plt.title('Mean Price by RAM and SSD')\n",
        "plt.xlabel('RAM')\n",
        "plt.ylabel('SSD')\n",
        "plt.show()"
      ]
    },
    {
      "cell_type": "code",
      "execution_count": null,
      "metadata": {},
      "outputs": [],
      "source": []
    }
  ],
  "metadata": {
    "kernelspec": {
      "display_name": "cpsc330",
      "language": "python",
      "name": "python3"
    },
    "language_info": {
      "codemirror_mode": {
        "name": "ipython",
        "version": 3
      },
      "file_extension": ".py",
      "mimetype": "text/x-python",
      "name": "python",
      "nbconvert_exporter": "python",
      "pygments_lexer": "ipython3",
      "version": "3.10.0"
    },
    "orig_nbformat": 4
  },
  "nbformat": 4,
  "nbformat_minor": 4
}
