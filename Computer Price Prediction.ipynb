{
  "cells": [
    {
      "cell_type": "markdown",
      "metadata": {},
      "source": [
        "# Computer Price Prediction Using Regression \n",
        "\n",
        "## 1. Introduction:\n",
        "\n",
        "### Exploratory Question:\n",
        "\n",
        "## 2. Loading data:\n",
        "\n",
        "We begin the analysis by loading the data set to get a better understading of the data\n",
        "\n",
        "### 2.1 Import Libraries"
      ]
    },
    {
      "cell_type": "code",
      "execution_count": 2,
      "metadata": {},
      "outputs": [],
      "source": [
        "# Import all the Required libraries \n",
        "\n",
        "# Data Analysis & Visualization libraries\n",
        "import pandas as pd\n",
        "import numpy as np\n",
        "import seaborn as sns\n",
        "import matplotlib.pyplot as plt\n",
        "\n",
        "# Model Building\n",
        "from sklearn.preprocessing import LabelEncoder, StandardScaler\n",
        "from sklearn.model_selection import train_test_split, RandomizedSearchCV\n",
        "from sklearn.feature_selection import RFE\n",
        "from sklearn.linear_model import LinearRegression\n",
        "from sklearn.tree import DecisionTreeRegressor\n",
        "from sklearn.neighbors import KNeighborsRegressor\n",
        "from sklearn.ensemble import RandomForestRegressor,GradientBoostingRegressor,AdaBoostRegressor\n",
        "from sklearn.metrics import mean_squared_error, mean_absolute_error,r2_score\n",
        "\n",
        "# visualisation modifiers\n",
        "pd.set_option('display.max_columns', None)\n",
        "pd.set_option('display.max_rows', None)\n",
        "sns.set(style = 'darkgrid',font_scale=1.5)\n",
        "%matplotlib inline\n",
        "\n",
        "# To supress warnings\n",
        "import warnings\n",
        "warnings.filterwarnings(\"ignore\")"
      ]
    },
    {
      "cell_type": "markdown",
      "metadata": {},
      "source": [
        "### 2.2 Load Dataset"
      ]
    },
    {
      "cell_type": "code",
      "execution_count": 26,
      "metadata": {},
      "outputs": [
        {
          "data": {
            "text/html": [
              "<div>\n",
              "<style scoped>\n",
              "    .dataframe tbody tr th:only-of-type {\n",
              "        vertical-align: middle;\n",
              "    }\n",
              "\n",
              "    .dataframe tbody tr th {\n",
              "        vertical-align: top;\n",
              "    }\n",
              "\n",
              "    .dataframe thead th {\n",
              "        text-align: right;\n",
              "    }\n",
              "</style>\n",
              "<table border=\"1\" class=\"dataframe\">\n",
              "  <thead>\n",
              "    <tr style=\"text-align: right;\">\n",
              "      <th></th>\n",
              "      <th>Company</th>\n",
              "      <th>TypeName</th>\n",
              "      <th>Ram</th>\n",
              "      <th>Weight</th>\n",
              "      <th>Price</th>\n",
              "      <th>TouchScreen</th>\n",
              "      <th>Ips</th>\n",
              "      <th>Ppi</th>\n",
              "      <th>Cpu_brand</th>\n",
              "      <th>HDD</th>\n",
              "      <th>SSD</th>\n",
              "      <th>Gpu_brand</th>\n",
              "      <th>Os</th>\n",
              "    </tr>\n",
              "  </thead>\n",
              "  <tbody>\n",
              "    <tr>\n",
              "      <th>0</th>\n",
              "      <td>Apple</td>\n",
              "      <td>Ultrabook</td>\n",
              "      <td>8</td>\n",
              "      <td>1.37</td>\n",
              "      <td>11.175755</td>\n",
              "      <td>0</td>\n",
              "      <td>1</td>\n",
              "      <td>226.983005</td>\n",
              "      <td>Intel Core i5</td>\n",
              "      <td>0</td>\n",
              "      <td>128</td>\n",
              "      <td>Intel</td>\n",
              "      <td>Mac</td>\n",
              "    </tr>\n",
              "    <tr>\n",
              "      <th>1</th>\n",
              "      <td>Apple</td>\n",
              "      <td>Ultrabook</td>\n",
              "      <td>8</td>\n",
              "      <td>1.34</td>\n",
              "      <td>10.776777</td>\n",
              "      <td>0</td>\n",
              "      <td>0</td>\n",
              "      <td>127.677940</td>\n",
              "      <td>Intel Core i5</td>\n",
              "      <td>0</td>\n",
              "      <td>0</td>\n",
              "      <td>Intel</td>\n",
              "      <td>Mac</td>\n",
              "    </tr>\n",
              "    <tr>\n",
              "      <th>2</th>\n",
              "      <td>HP</td>\n",
              "      <td>Notebook</td>\n",
              "      <td>8</td>\n",
              "      <td>1.86</td>\n",
              "      <td>10.329931</td>\n",
              "      <td>0</td>\n",
              "      <td>0</td>\n",
              "      <td>141.211998</td>\n",
              "      <td>Intel Core i5</td>\n",
              "      <td>0</td>\n",
              "      <td>256</td>\n",
              "      <td>Intel</td>\n",
              "      <td>Others</td>\n",
              "    </tr>\n",
              "    <tr>\n",
              "      <th>3</th>\n",
              "      <td>Apple</td>\n",
              "      <td>Ultrabook</td>\n",
              "      <td>16</td>\n",
              "      <td>1.83</td>\n",
              "      <td>11.814476</td>\n",
              "      <td>0</td>\n",
              "      <td>1</td>\n",
              "      <td>220.534624</td>\n",
              "      <td>Intel Core i7</td>\n",
              "      <td>0</td>\n",
              "      <td>512</td>\n",
              "      <td>AMD</td>\n",
              "      <td>Mac</td>\n",
              "    </tr>\n",
              "    <tr>\n",
              "      <th>4</th>\n",
              "      <td>Apple</td>\n",
              "      <td>Ultrabook</td>\n",
              "      <td>8</td>\n",
              "      <td>1.37</td>\n",
              "      <td>11.473101</td>\n",
              "      <td>0</td>\n",
              "      <td>1</td>\n",
              "      <td>226.983005</td>\n",
              "      <td>Intel Core i5</td>\n",
              "      <td>0</td>\n",
              "      <td>256</td>\n",
              "      <td>Intel</td>\n",
              "      <td>Mac</td>\n",
              "    </tr>\n",
              "  </tbody>\n",
              "</table>\n",
              "</div>"
            ],
            "text/plain": [
              "  Company   TypeName  Ram  Weight      Price  TouchScreen  Ips         Ppi  \\\n",
              "0   Apple  Ultrabook    8    1.37  11.175755            0    1  226.983005   \n",
              "1   Apple  Ultrabook    8    1.34  10.776777            0    0  127.677940   \n",
              "2      HP   Notebook    8    1.86  10.329931            0    0  141.211998   \n",
              "3   Apple  Ultrabook   16    1.83  11.814476            0    1  220.534624   \n",
              "4   Apple  Ultrabook    8    1.37  11.473101            0    1  226.983005   \n",
              "\n",
              "       Cpu_brand  HDD  SSD Gpu_brand      Os  \n",
              "0  Intel Core i5    0  128     Intel     Mac  \n",
              "1  Intel Core i5    0    0     Intel     Mac  \n",
              "2  Intel Core i5    0  256     Intel  Others  \n",
              "3  Intel Core i7    0  512       AMD     Mac  \n",
              "4  Intel Core i5    0  256     Intel     Mac  "
            ]
          },
          "execution_count": 26,
          "metadata": {},
          "output_type": "execute_result"
        }
      ],
      "source": [
        "data = pd.read_csv('data/laptop_data_cleaned.csv')\n",
        "data.head()"
      ]
    },
    {
      "cell_type": "code",
      "execution_count": 27,
      "metadata": {},
      "outputs": [
        {
          "data": {
            "text/plain": [
              "Gpu_brand\n",
              "Intel     703\n",
              "Nvidia    396\n",
              "AMD       174\n",
              "Name: count, dtype: int64"
            ]
          },
          "execution_count": 27,
          "metadata": {},
          "output_type": "execute_result"
        }
      ],
      "source": [
        "data['Gpu_brand'].value_counts()"
      ]
    },
    {
      "cell_type": "markdown",
      "metadata": {},
      "source": [
        "## 3. Data Cleaning and Summary:\n",
        "\n",
        "Shape of dataset (1273, 13)\n",
        "\n",
        "| Variable Name      | Type of Variable | Explanation |\n",
        "| ----------- | :-----------: | ----------- |\n",
        "| `Company`     | chr       | The brand of that laptop |\n",
        "| `TypeName`   | chr        | The categories of which type the laptop is|\n",
        "| `Ram`   | int        | RAM of the laptop |\n",
        "| `Weight`   | int       | How heavy the laptop is|\n",
        "| `Price`   | int        | The total price of that computer|\n",
        "| `TouchScreen`   | int        | Define whether the laptop's screen has touch screen or not|\n",
        "| `Ips`   | int        | Define whether the laptop has the In Plane Switching (IPS) display or not|\n",
        "| `Ppi`   | int        | Laptop's pixel per inches |\n",
        "| `Cpu_brand`   | chr        | The brand of CPU|\n",
        "| `HDD`   | int        | Hard disk drives of the laptop|\n",
        "| `SSD`   | int        | Solid-state drive of the laptop|\n",
        "| `Gpu_brand`   | chr        | The brand of GPU|\n",
        "| `Os`   | chr        | The catrgories of which type of Operating System the laptop is|\n",
        "\n",
        "\n",
        "- From above output, we could have that there are totals 1273 variables in the dataset with 13 variables in which 5 of them are categorical and 8 numerical attributes.\n",
        "\n"
      ]
    },
    {
      "cell_type": "code",
      "execution_count": 28,
      "metadata": {},
      "outputs": [
        {
          "data": {
            "text/html": [
              "<div>\n",
              "<style scoped>\n",
              "    .dataframe tbody tr th:only-of-type {\n",
              "        vertical-align: middle;\n",
              "    }\n",
              "\n",
              "    .dataframe tbody tr th {\n",
              "        vertical-align: top;\n",
              "    }\n",
              "\n",
              "    .dataframe thead th {\n",
              "        text-align: right;\n",
              "    }\n",
              "</style>\n",
              "<table border=\"1\" class=\"dataframe\">\n",
              "  <thead>\n",
              "    <tr style=\"text-align: right;\">\n",
              "      <th></th>\n",
              "      <th>Ram</th>\n",
              "      <th>Weight</th>\n",
              "      <th>Price</th>\n",
              "      <th>TouchScreen</th>\n",
              "      <th>Ips</th>\n",
              "      <th>Ppi</th>\n",
              "      <th>HDD</th>\n",
              "      <th>SSD</th>\n",
              "    </tr>\n",
              "  </thead>\n",
              "  <tbody>\n",
              "    <tr>\n",
              "      <th>count</th>\n",
              "      <td>1273.000000</td>\n",
              "      <td>1273.000000</td>\n",
              "      <td>1273.000000</td>\n",
              "      <td>1273.000000</td>\n",
              "      <td>1273.000000</td>\n",
              "      <td>1273.000000</td>\n",
              "      <td>1273.000000</td>\n",
              "      <td>1273.000000</td>\n",
              "    </tr>\n",
              "    <tr>\n",
              "      <th>mean</th>\n",
              "      <td>8.447761</td>\n",
              "      <td>2.041100</td>\n",
              "      <td>10.828218</td>\n",
              "      <td>0.146897</td>\n",
              "      <td>0.279654</td>\n",
              "      <td>146.950812</td>\n",
              "      <td>413.715632</td>\n",
              "      <td>186.252946</td>\n",
              "    </tr>\n",
              "    <tr>\n",
              "      <th>std</th>\n",
              "      <td>5.098771</td>\n",
              "      <td>0.669241</td>\n",
              "      <td>0.619565</td>\n",
              "      <td>0.354142</td>\n",
              "      <td>0.449006</td>\n",
              "      <td>42.926775</td>\n",
              "      <td>518.054486</td>\n",
              "      <td>186.531571</td>\n",
              "    </tr>\n",
              "    <tr>\n",
              "      <th>min</th>\n",
              "      <td>2.000000</td>\n",
              "      <td>0.690000</td>\n",
              "      <td>9.134616</td>\n",
              "      <td>0.000000</td>\n",
              "      <td>0.000000</td>\n",
              "      <td>90.583402</td>\n",
              "      <td>0.000000</td>\n",
              "      <td>0.000000</td>\n",
              "    </tr>\n",
              "    <tr>\n",
              "      <th>25%</th>\n",
              "      <td>4.000000</td>\n",
              "      <td>1.500000</td>\n",
              "      <td>10.387379</td>\n",
              "      <td>0.000000</td>\n",
              "      <td>0.000000</td>\n",
              "      <td>127.335675</td>\n",
              "      <td>0.000000</td>\n",
              "      <td>0.000000</td>\n",
              "    </tr>\n",
              "    <tr>\n",
              "      <th>50%</th>\n",
              "      <td>8.000000</td>\n",
              "      <td>2.040000</td>\n",
              "      <td>10.872255</td>\n",
              "      <td>0.000000</td>\n",
              "      <td>0.000000</td>\n",
              "      <td>141.211998</td>\n",
              "      <td>0.000000</td>\n",
              "      <td>256.000000</td>\n",
              "    </tr>\n",
              "    <tr>\n",
              "      <th>75%</th>\n",
              "      <td>8.000000</td>\n",
              "      <td>2.310000</td>\n",
              "      <td>11.287447</td>\n",
              "      <td>0.000000</td>\n",
              "      <td>1.000000</td>\n",
              "      <td>157.350512</td>\n",
              "      <td>1000.000000</td>\n",
              "      <td>256.000000</td>\n",
              "    </tr>\n",
              "    <tr>\n",
              "      <th>max</th>\n",
              "      <td>64.000000</td>\n",
              "      <td>4.700000</td>\n",
              "      <td>12.691441</td>\n",
              "      <td>1.000000</td>\n",
              "      <td>1.000000</td>\n",
              "      <td>352.465147</td>\n",
              "      <td>2000.000000</td>\n",
              "      <td>1024.000000</td>\n",
              "    </tr>\n",
              "  </tbody>\n",
              "</table>\n",
              "</div>"
            ],
            "text/plain": [
              "               Ram       Weight        Price  TouchScreen          Ips  \\\n",
              "count  1273.000000  1273.000000  1273.000000  1273.000000  1273.000000   \n",
              "mean      8.447761     2.041100    10.828218     0.146897     0.279654   \n",
              "std       5.098771     0.669241     0.619565     0.354142     0.449006   \n",
              "min       2.000000     0.690000     9.134616     0.000000     0.000000   \n",
              "25%       4.000000     1.500000    10.387379     0.000000     0.000000   \n",
              "50%       8.000000     2.040000    10.872255     0.000000     0.000000   \n",
              "75%       8.000000     2.310000    11.287447     0.000000     1.000000   \n",
              "max      64.000000     4.700000    12.691441     1.000000     1.000000   \n",
              "\n",
              "               Ppi          HDD          SSD  \n",
              "count  1273.000000  1273.000000  1273.000000  \n",
              "mean    146.950812   413.715632   186.252946  \n",
              "std      42.926775   518.054486   186.531571  \n",
              "min      90.583402     0.000000     0.000000  \n",
              "25%     127.335675     0.000000     0.000000  \n",
              "50%     141.211998     0.000000   256.000000  \n",
              "75%     157.350512  1000.000000   256.000000  \n",
              "max     352.465147  2000.000000  1024.000000  "
            ]
          },
          "execution_count": 28,
          "metadata": {},
          "output_type": "execute_result"
        }
      ],
      "source": [
        "data.describe()"
      ]
    },
    {
      "cell_type": "markdown",
      "metadata": {},
      "source": [
        "### 3.2 Data Cleaning"
      ]
    },
    {
      "cell_type": "code",
      "execution_count": 29,
      "metadata": {},
      "outputs": [
        {
          "data": {
            "text/plain": [
              "Company        0\n",
              "TypeName       0\n",
              "Ram            0\n",
              "Weight         0\n",
              "Price          0\n",
              "TouchScreen    0\n",
              "Ips            0\n",
              "Ppi            0\n",
              "Cpu_brand      0\n",
              "HDD            0\n",
              "SSD            0\n",
              "Gpu_brand      0\n",
              "Os             0\n",
              "dtype: int64"
            ]
          },
          "execution_count": 29,
          "metadata": {},
          "output_type": "execute_result"
        }
      ],
      "source": [
        "data.isnull().sum()"
      ]
    },
    {
      "cell_type": "code",
      "execution_count": 30,
      "metadata": {},
      "outputs": [
        {
          "data": {
            "text/plain": [
              "1"
            ]
          },
          "execution_count": 30,
          "metadata": {},
          "output_type": "execute_result"
        }
      ],
      "source": [
        "data.duplicated().sum()"
      ]
    },
    {
      "cell_type": "code",
      "execution_count": 33,
      "metadata": {},
      "outputs": [
        {
          "data": {
            "text/plain": [
              "(1272, 13)"
            ]
          },
          "execution_count": 33,
          "metadata": {},
          "output_type": "execute_result"
        }
      ],
      "source": [
        "data = data.drop_duplicates()\n",
        "data.shape"
      ]
    },
    {
      "cell_type": "code",
      "execution_count": 34,
      "metadata": {},
      "outputs": [
        {
          "name": "stdout",
          "output_type": "stream",
          "text": [
            "<class 'pandas.core.frame.DataFrame'>\n",
            "Index: 1272 entries, 0 to 1272\n",
            "Data columns (total 13 columns):\n",
            " #   Column       Non-Null Count  Dtype  \n",
            "---  ------       --------------  -----  \n",
            " 0   Company      1272 non-null   object \n",
            " 1   TypeName     1272 non-null   object \n",
            " 2   Ram          1272 non-null   int64  \n",
            " 3   Weight       1272 non-null   float64\n",
            " 4   Price        1272 non-null   float64\n",
            " 5   TouchScreen  1272 non-null   int64  \n",
            " 6   Ips          1272 non-null   int64  \n",
            " 7   Ppi          1272 non-null   float64\n",
            " 8   Cpu_brand    1272 non-null   object \n",
            " 9   HDD          1272 non-null   int64  \n",
            " 10  SSD          1272 non-null   int64  \n",
            " 11  Gpu_brand    1272 non-null   object \n",
            " 12  Os           1272 non-null   object \n",
            "dtypes: float64(3), int64(5), object(5)\n",
            "memory usage: 139.1+ KB\n"
          ]
        }
      ],
      "source": [
        "data.info()"
      ]
    },
    {
      "cell_type": "code",
      "execution_count": null,
      "metadata": {},
      "outputs": [],
      "source": []
    }
  ],
  "metadata": {
    "kernelspec": {
      "display_name": "cpsc330",
      "language": "python",
      "name": "python3"
    },
    "language_info": {
      "codemirror_mode": {
        "name": "ipython",
        "version": 3
      },
      "file_extension": ".py",
      "mimetype": "text/x-python",
      "name": "python",
      "nbconvert_exporter": "python",
      "pygments_lexer": "ipython3",
      "version": "3.10.11"
    },
    "orig_nbformat": 4
  },
  "nbformat": 4,
  "nbformat_minor": 4
}
